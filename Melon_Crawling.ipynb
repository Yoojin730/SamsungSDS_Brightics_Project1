{
 "cells": [
  {
   "cell_type": "code",
   "execution_count": null,
   "metadata": {},
   "outputs": [],
   "source": [
    "from bs4 import BeautifulSoup\n",
    "import re\n",
    "import pandas as pd\n",
    "import requests\n",
    "import selenium\n",
    "from selenium import webdriver\n",
    "import time\n",
    "from itertools import repeat\n",
    "\n",
    "driver = webdriver.Chrome('chromedriver.exe')"
   ]
  },
  {
   "cell_type": "markdown",
   "metadata": {},
   "source": [
    "# 2021년 월별"
   ]
  },
  {
   "cell_type": "markdown",
   "metadata": {},
   "source": [
    "## 2021.07"
   ]
  },
  {
   "cell_type": "code",
   "execution_count": null,
   "metadata": {},
   "outputs": [],
   "source": [
    "driver.get(\"https://www.melon.com/chart/month/index.htm\")"
   ]
  },
  {
   "cell_type": "code",
   "execution_count": null,
   "metadata": {},
   "outputs": [],
   "source": [
    "title=driver.find_elements_by_class_name('ellipsis.rank01')\n",
    "\n",
    "title2=[]\n",
    "for i in title:\n",
    "    title2.append(i.text)"
   ]
  },
  {
   "cell_type": "code",
   "execution_count": null,
   "metadata": {},
   "outputs": [],
   "source": [
    "len(title2)"
   ]
  },
  {
   "cell_type": "code",
   "execution_count": null,
   "metadata": {},
   "outputs": [],
   "source": [
    "singer=driver.find_elements_by_class_name('ellipsis.rank02')\n",
    "singer2=[]\n",
    "for i in singer:\n",
    "    singer2.append(i.text)"
   ]
  },
  {
   "cell_type": "code",
   "execution_count": null,
   "metadata": {},
   "outputs": [],
   "source": [
    "len(singer2)"
   ]
  },
  {
   "cell_type": "code",
   "execution_count": null,
   "metadata": {},
   "outputs": [],
   "source": [
    "songTagList = driver.find_elements_by_id('lst50')\n",
    "\n",
    "number=[]\n",
    "for i in songTagList:\n",
    "    number.append(i.get_attribute('data-song-no'))"
   ]
  },
  {
   "cell_type": "code",
   "execution_count": null,
   "metadata": {},
   "outputs": [],
   "source": [
    "songTagList = driver.find_elements_by_id('lst100')\n",
    "\n",
    "for i in songTagList:\n",
    "    number.append(i.get_attribute('data-song-no'))"
   ]
  },
  {
   "cell_type": "code",
   "execution_count": null,
   "metadata": {},
   "outputs": [],
   "source": [
    "len(number)"
   ]
  },
  {
   "cell_type": "code",
   "execution_count": null,
   "metadata": {},
   "outputs": [],
   "source": [
    "LYRIC=[]\n",
    "\n",
    "for i in number:\n",
    "    driver.get(\"https://www.melon.com/song/detail.htm?songId=\" + i)\n",
    "    lyric=driver.find_element_by_class_name(\"lyric\")\n",
    "    LYRIC.append(lyric.text)"
   ]
  },
  {
   "cell_type": "code",
   "execution_count": null,
   "metadata": {},
   "outputs": [],
   "source": [
    "LYRIC2=[]\n",
    "for i in LYRIC:\n",
    "    LYRIC2.append(i.replace(\"\\n\",\" \"))"
   ]
  },
  {
   "cell_type": "code",
   "execution_count": null,
   "metadata": {},
   "outputs": [],
   "source": [
    "len(LYRIC2)"
   ]
  },
  {
   "cell_type": "code",
   "execution_count": null,
   "metadata": {},
   "outputs": [],
   "source": [
    "GENRE=[]\n",
    "\n",
    "for i in number:\n",
    "    driver.get(\"https://www.melon.com/song/detail.htm?songId=\" + i)\n",
    "    try:\n",
    "        if driver.find_element_by_xpath('//*[@id=\"downloadfrm\"]/div/div/div[2]/div[2]/dl/dd[3]').text:\n",
    "            genre=driver.find_element_by_xpath('//*[@id=\"downloadfrm\"]/div/div/div[2]/div[2]/dl/dd[3]').text\n",
    "            GENRE.append(genre)\n",
    "    except:\n",
    "        GENRE.append(\"\")"
   ]
  },
  {
   "cell_type": "code",
   "execution_count": null,
   "metadata": {},
   "outputs": [],
   "source": [
    "RELEASE=[]\n",
    "\n",
    "for i in number:\n",
    "    driver.get(\"https://www.melon.com/song/detail.htm?songId=\" + i)\n",
    "    try:\n",
    "        if driver.find_element_by_xpath('//*[@id=\"downloadfrm\"]/div/div/div[2]/div[2]/dl/dd[2]').text:\n",
    "            release=driver.find_element_by_xpath('//*[@id=\"downloadfrm\"]/div/div/div[2]/div[2]/dl/dd[2]').text\n",
    "            RELEASE.append(release)\n",
    "    except:\n",
    "        RELEASE.append(\"\")"
   ]
  },
  {
   "cell_type": "code",
   "execution_count": null,
   "metadata": {},
   "outputs": [],
   "source": [
    "df_202107_top100 = pd.DataFrame({\"Title\":title2,\"Singer\":singer2, \"Genre\": GENRE, \"Release\" : RELEASE, \"Lyric\":LYRIC2})"
   ]
  },
  {
   "cell_type": "code",
   "execution_count": null,
   "metadata": {},
   "outputs": [],
   "source": [
    "df_202107_top100"
   ]
  },
  {
   "cell_type": "code",
   "execution_count": null,
   "metadata": {},
   "outputs": [],
   "source": [
    "df_202107_top100['Year'] = 0\n",
    "\n",
    "for i in range(len(df_202107_top100)):\n",
    "    df_202107_top100['Year'][i] = df_202107_top100['Release'][i].split(\".\")[0]"
   ]
  },
  {
   "cell_type": "code",
   "execution_count": null,
   "metadata": {
    "scrolled": true
   },
   "outputs": [],
   "source": [
    "df_202107_top100['Month'] = 0\n",
    "\n",
    "for i in range(len(df_202107_top100)):\n",
    "    df_202107_top100['Month'][i] = df_202107_top100['Release'][i].split(\".\")[1]"
   ]
  },
  {
   "cell_type": "code",
   "execution_count": null,
   "metadata": {},
   "outputs": [],
   "source": [
    "df_202107_top100['Year_Month'] = 0\n",
    "\n",
    "for i in range(len(df_202107_top100)):\n",
    "    df_202107_top100['Year_Month'][i] = int(str(df_202107_top100['Release'][i].split(\".\")[0]) + str(df_202107_top100['Release'][i].split(\".\")[1]))"
   ]
  },
  {
   "cell_type": "code",
   "execution_count": null,
   "metadata": {},
   "outputs": [],
   "source": [
    "df_202107_top100['Year_Month'] = 0\n",
    "\n",
    "for i in range(len(df_202107_top100)):\n",
    "    df_202107_top100['Year_Month'][i] = int(str(df_202107_top100['Release'][i].split(\".\")[0]) + str(df_202107_top100['Release'][i].split(\".\")[1]))"
   ]
  },
  {
   "cell_type": "code",
   "execution_count": null,
   "metadata": {
    "scrolled": true
   },
   "outputs": [],
   "source": [
    "df_202107_top100.info()"
   ]
  },
  {
   "cell_type": "code",
   "execution_count": null,
   "metadata": {},
   "outputs": [],
   "source": [
    "df_202107_top100"
   ]
  },
  {
   "cell_type": "code",
   "execution_count": null,
   "metadata": {},
   "outputs": [],
   "source": [
    "df_202107_top100.to_csv(\"./data/df_202107_top100.csv\", encoding=\"utf-8\", index=False)"
   ]
  },
  {
   "cell_type": "markdown",
   "metadata": {},
   "source": [
    "## 2021.06"
   ]
  },
  {
   "cell_type": "code",
   "execution_count": null,
   "metadata": {
    "scrolled": true
   },
   "outputs": [],
   "source": [
    "url = 'https://www.melon.com/chart/index.htm' # 멜론차트 페이지\n",
    "driver.get(url)"
   ]
  },
  {
   "cell_type": "code",
   "execution_count": null,
   "metadata": {},
   "outputs": [],
   "source": [
    "# 차트파인더 클릭\n",
    "driver.find_element_by_xpath('//*[@id=\"gnb_menu\"]/ul[1]/li[1]/div/div/button/span').click()\n",
    "\n",
    "# 월간차트 클릭\n",
    "driver.find_element_by_xpath('//*[@id=\"d_chart_search\"]/div/h4[2]/a').click()\n",
    "time.sleep(2)\n",
    "\n",
    "# 연대선택\n",
    "driver.find_element_by_xpath('//*[@id=\"d_chart_search\"]/div/div/div[1]/div[1]/ul/li[1]/span/label').click()\n",
    "time.sleep(2)\n",
    "\n",
    "#연도선택\n",
    "driver.find_element_by_xpath('//*[@id=\"d_chart_search\"]/div/div/div[2]/div[1]/ul/li[1]/span/label').click()\n",
    "time.sleep(2)\n",
    "\n",
    "# 월선택 6월 클릭\n",
    "driver.find_element_by_xpath('//*[@id=\"d_chart_search\"]/div/div/div[3]/div[1]/ul/li[6]/span/label').click()\n",
    "time.sleep(2)\n",
    "\n",
    "# 장르선택 종합 클릭\n",
    "driver.find_element_by_xpath('//*[@id=\"d_chart_search\"]/div/div/div[5]/div[1]/ul/li[1]/span/label').click()\n",
    "time.sleep(2)\n",
    "\n",
    "# 검색버튼 클릭\n",
    "driver.find_element_by_xpath('//*[@id=\"d_srch_form\"]/div[2]/button/span/span').click()\n",
    "time.sleep(2)"
   ]
  },
  {
   "cell_type": "code",
   "execution_count": null,
   "metadata": {},
   "outputs": [],
   "source": [
    "title=driver.find_elements_by_class_name('ellipsis.rank01')\n",
    "\n",
    "title2=[]\n",
    "for i in title:\n",
    "    title2.append(i.text)\n",
    "    \n",
    "del title2[50:]"
   ]
  },
  {
   "cell_type": "code",
   "execution_count": null,
   "metadata": {
    "scrolled": false
   },
   "outputs": [],
   "source": [
    "len(title2)"
   ]
  },
  {
   "cell_type": "code",
   "execution_count": null,
   "metadata": {},
   "outputs": [],
   "source": [
    "singer=driver.find_elements_by_class_name('ellipsis.rank02')\n",
    "\n",
    "singer2=[]\n",
    "for i in singer:\n",
    "    singer2.append(i.text)\n",
    "    \n",
    "del singer2[50:]"
   ]
  },
  {
   "cell_type": "code",
   "execution_count": null,
   "metadata": {},
   "outputs": [],
   "source": [
    "len(singer2)"
   ]
  },
  {
   "cell_type": "code",
   "execution_count": null,
   "metadata": {},
   "outputs": [],
   "source": [
    "driver.find_element_by_xpath('//*[@id=\"frm\"]/div[2]/span/a').click()"
   ]
  },
  {
   "cell_type": "code",
   "execution_count": null,
   "metadata": {},
   "outputs": [],
   "source": [
    "title=driver.find_elements_by_class_name('ellipsis.rank01')\n",
    "\n",
    "for i in title:\n",
    "    title2.append(i.text)\n",
    "    \n",
    "del title2[50:100]"
   ]
  },
  {
   "cell_type": "code",
   "execution_count": null,
   "metadata": {},
   "outputs": [],
   "source": [
    "singer=driver.find_elements_by_class_name('ellipsis.rank02')\n",
    "\n",
    "for i in singer:\n",
    "    singer2.append(i.text)\n",
    "    \n",
    "del singer2[50:100]"
   ]
  },
  {
   "cell_type": "code",
   "execution_count": null,
   "metadata": {
    "scrolled": false
   },
   "outputs": [],
   "source": [
    "len(title2)"
   ]
  },
  {
   "cell_type": "code",
   "execution_count": null,
   "metadata": {},
   "outputs": [],
   "source": [
    "len(singer2)"
   ]
  },
  {
   "cell_type": "code",
   "execution_count": null,
   "metadata": {
    "scrolled": true
   },
   "outputs": [],
   "source": [
    "songTagList = driver.find_elements_by_css_selector('#lst50 > td:nth-child(1) > div > input')\n",
    "\n",
    "number = []\n",
    "for i in songTagList:\n",
    "    number.append(i. get_attribute('value'))\n",
    "    \n",
    "number"
   ]
  },
  {
   "cell_type": "code",
   "execution_count": null,
   "metadata": {
    "scrolled": true
   },
   "outputs": [],
   "source": [
    "songTagList = driver.find_elements_by_css_selector('#lst100 > td:nth-child(1) > div > input')\n",
    "\n",
    "for i in songTagList:\n",
    "    number.append(i. get_attribute('value'))\n",
    "    \n",
    "number"
   ]
  },
  {
   "cell_type": "code",
   "execution_count": null,
   "metadata": {},
   "outputs": [],
   "source": [
    "len(number)"
   ]
  },
  {
   "cell_type": "code",
   "execution_count": null,
   "metadata": {},
   "outputs": [],
   "source": [
    "LYRIC=[]\n",
    "\n",
    "for i in number:\n",
    "    driver.get(\"https://www.melon.com/song/detail.htm?songId=\" + i)\n",
    "    lyric=driver.find_element_by_class_name(\"lyric\")\n",
    "    LYRIC.append(lyric.text)"
   ]
  },
  {
   "cell_type": "code",
   "execution_count": null,
   "metadata": {},
   "outputs": [],
   "source": [
    "LYRIC2=[]\n",
    "for i in LYRIC:\n",
    "    LYRIC2.append(i.replace(\"\\n\",\" \"))"
   ]
  },
  {
   "cell_type": "code",
   "execution_count": null,
   "metadata": {},
   "outputs": [],
   "source": [
    "GENRE=[]\n",
    "\n",
    "for i in number:\n",
    "    driver.get(\"https://www.melon.com/song/detail.htm?songId=\" + i)\n",
    "    try:\n",
    "        if driver.find_element_by_xpath('//*[@id=\"downloadfrm\"]/div/div/div[2]/div[2]/dl/dd[3]').text:\n",
    "            genre=driver.find_element_by_xpath('//*[@id=\"downloadfrm\"]/div/div/div[2]/div[2]/dl/dd[3]').text\n",
    "            GENRE.append(genre)\n",
    "    except:\n",
    "        GENRE.append(\"\")"
   ]
  },
  {
   "cell_type": "code",
   "execution_count": null,
   "metadata": {},
   "outputs": [],
   "source": [
    "RELEASE=[]\n",
    "\n",
    "for i in number:\n",
    "    driver.get(\"https://www.melon.com/song/detail.htm?songId=\" + i)\n",
    "    try:\n",
    "        if driver.find_element_by_xpath('//*[@id=\"downloadfrm\"]/div/div/div[2]/div[2]/dl/dd[2]').text:\n",
    "            release=driver.find_element_by_xpath('//*[@id=\"downloadfrm\"]/div/div/div[2]/div[2]/dl/dd[2]').text\n",
    "            RELEASE.append(release)\n",
    "    except:\n",
    "        RELEASE.append(\"\")"
   ]
  },
  {
   "cell_type": "code",
   "execution_count": null,
   "metadata": {},
   "outputs": [],
   "source": [
    "df_202106_top100 = pd.DataFrame({\"Title\":title2,\"Singer\":singer2, \"Genre\": GENRE, \"Release\" : RELEASE, \"Lyric\":LYRIC2})"
   ]
  },
  {
   "cell_type": "code",
   "execution_count": null,
   "metadata": {},
   "outputs": [],
   "source": [
    "df_202106_top100"
   ]
  },
  {
   "cell_type": "code",
   "execution_count": null,
   "metadata": {},
   "outputs": [],
   "source": [
    "df_202106_top100['Year'] = 0\n",
    "\n",
    "for i in range(len(df_202106_top100)):\n",
    "    df_202106_top100['Year'][i] = df_202106_top100['Release'][i].split(\".\")[0]"
   ]
  },
  {
   "cell_type": "code",
   "execution_count": null,
   "metadata": {},
   "outputs": [],
   "source": [
    "df_202106_top100['Month'] = 0\n",
    "\n",
    "for i in range(len(df_202106_top100)):\n",
    "    df_202106_top100['Month'][i] = df_202106_top100['Release'][i].split(\".\")[1]"
   ]
  },
  {
   "cell_type": "code",
   "execution_count": null,
   "metadata": {},
   "outputs": [],
   "source": [
    "df_202106_top100['Year_Month'] = 0\n",
    "\n",
    "for i in range(len(df_202106_top100)):\n",
    "    df_202106_top100['Year_Month'][i] = int(str(df_202106_top100['Release'][i].split(\".\")[0]) + str(df_202106_top100['Release'][i].split(\".\")[1]))"
   ]
  },
  {
   "cell_type": "code",
   "execution_count": null,
   "metadata": {},
   "outputs": [],
   "source": [
    "df_202106_top100"
   ]
  },
  {
   "cell_type": "code",
   "execution_count": null,
   "metadata": {},
   "outputs": [],
   "source": [
    "df_202106_top100.to_csv(\"./data/df_202106_top100.csv\", encoding=\"utf-8\", index=False)"
   ]
  },
  {
   "cell_type": "markdown",
   "metadata": {},
   "source": [
    "## 2021.05"
   ]
  },
  {
   "cell_type": "code",
   "execution_count": null,
   "metadata": {},
   "outputs": [],
   "source": [
    "url = 'https://www.melon.com/chart/index.htm' # 멜론차트 페이지\n",
    "driver.get(url)"
   ]
  },
  {
   "cell_type": "code",
   "execution_count": null,
   "metadata": {},
   "outputs": [],
   "source": [
    "# 차트파인더 클릭\n",
    "driver.find_element_by_xpath('//*[@id=\"gnb_menu\"]/ul[1]/li[1]/div/div/button/span').click()\n",
    "\n",
    "# 월간차트 클릭\n",
    "driver.find_element_by_xpath('//*[@id=\"d_chart_search\"]/div/h4[2]/a').click()\n",
    "time.sleep(2)\n",
    "\n",
    "# 연대선택\n",
    "driver.find_element_by_xpath('//*[@id=\"d_chart_search\"]/div/div/div[1]/div[1]/ul/li[1]/span/label').click()\n",
    "time.sleep(2)\n",
    "\n",
    "#연도선택\n",
    "driver.find_element_by_xpath('//*[@id=\"d_chart_search\"]/div/div/div[2]/div[1]/ul/li[1]/span/label').click()\n",
    "time.sleep(2)\n",
    "\n",
    "# 월선택 5월 클릭\n",
    "driver.find_element_by_xpath('//*[@id=\"d_chart_search\"]/div/div/div[3]/div[1]/ul/li[5]/span/label').click()\n",
    "time.sleep(2)\n",
    "\n",
    "# 장르선택 종합 클릭\n",
    "driver.find_element_by_xpath('//*[@id=\"d_chart_search\"]/div/div/div[5]/div[1]/ul/li[1]/span/label').click()\n",
    "time.sleep(2)\n",
    "\n",
    "# 검색버튼 클릭\n",
    "driver.find_element_by_xpath('//*[@id=\"d_srch_form\"]/div[2]/button/span/span').click()\n",
    "time.sleep(2)"
   ]
  },
  {
   "cell_type": "code",
   "execution_count": null,
   "metadata": {},
   "outputs": [],
   "source": [
    "title=driver.find_elements_by_class_name('ellipsis.rank01')\n",
    "\n",
    "title2=[]\n",
    "for i in title:\n",
    "    title2.append(i.text)\n",
    "    \n",
    "del title2[50:]"
   ]
  },
  {
   "cell_type": "code",
   "execution_count": null,
   "metadata": {},
   "outputs": [],
   "source": [
    "singer=driver.find_elements_by_class_name('ellipsis.rank02')\n",
    "\n",
    "singer2=[]\n",
    "for i in singer:\n",
    "    singer2.append(i.text)\n",
    "    \n",
    "del singer2[50:]"
   ]
  },
  {
   "cell_type": "code",
   "execution_count": null,
   "metadata": {},
   "outputs": [],
   "source": [
    "driver.find_element_by_xpath('//*[@id=\"frm\"]/div[2]/span/a').click()"
   ]
  },
  {
   "cell_type": "code",
   "execution_count": null,
   "metadata": {},
   "outputs": [],
   "source": [
    "title=driver.find_elements_by_class_name('ellipsis.rank01')\n",
    "\n",
    "for i in title:\n",
    "    title2.append(i.text)\n",
    "    \n",
    "del title2[50:100]"
   ]
  },
  {
   "cell_type": "code",
   "execution_count": null,
   "metadata": {},
   "outputs": [],
   "source": [
    "singer=driver.find_elements_by_class_name('ellipsis.rank02')\n",
    "\n",
    "for i in singer:\n",
    "    singer2.append(i.text)\n",
    "    \n",
    "del singer2[50:100]"
   ]
  },
  {
   "cell_type": "code",
   "execution_count": null,
   "metadata": {
    "scrolled": true
   },
   "outputs": [],
   "source": [
    "songTagList = driver.find_elements_by_css_selector('#lst50 > td:nth-child(1) > div > input')\n",
    "\n",
    "number = []\n",
    "for i in songTagList:\n",
    "    number.append(i. get_attribute('value'))"
   ]
  },
  {
   "cell_type": "code",
   "execution_count": null,
   "metadata": {},
   "outputs": [],
   "source": [
    "songTagList = driver.find_elements_by_css_selector('#lst100 > td:nth-child(1) > div > input')\n",
    "\n",
    "for i in songTagList:\n",
    "    number.append(i. get_attribute('value'))"
   ]
  },
  {
   "cell_type": "code",
   "execution_count": null,
   "metadata": {},
   "outputs": [],
   "source": [
    "LYRIC=[]\n",
    "\n",
    "for i in number:\n",
    "    driver.get(\"https://www.melon.com/song/detail.htm?songId=\" + i)\n",
    "    lyric=driver.find_element_by_class_name(\"lyric\")\n",
    "    LYRIC.append(lyric.text)"
   ]
  },
  {
   "cell_type": "code",
   "execution_count": null,
   "metadata": {},
   "outputs": [],
   "source": [
    " LYRIC2=[]\n",
    "for i in LYRIC:\n",
    "    LYRIC2.append(i.replace(\"\\n\",\" \"))"
   ]
  },
  {
   "cell_type": "code",
   "execution_count": null,
   "metadata": {},
   "outputs": [],
   "source": [
    "GENRE=[]\n",
    "\n",
    "for i in number:\n",
    "    driver.get(\"https://www.melon.com/song/detail.htm?songId=\" + i)\n",
    "    try:\n",
    "        if driver.find_element_by_xpath('//*[@id=\"downloadfrm\"]/div/div/div[2]/div[2]/dl/dd[3]').text:\n",
    "            genre=driver.find_element_by_xpath('//*[@id=\"downloadfrm\"]/div/div/div[2]/div[2]/dl/dd[3]').text\n",
    "            GENRE.append(genre)\n",
    "    except:\n",
    "        GENRE.append(\"\")\n",
    "        \n",
    "RELEASE=[]\n",
    "\n",
    "for i in number:\n",
    "    driver.get(\"https://www.melon.com/song/detail.htm?songId=\" + i)\n",
    "    try:\n",
    "        if driver.find_element_by_xpath('//*[@id=\"downloadfrm\"]/div/div/div[2]/div[2]/dl/dd[2]').text:\n",
    "            release=driver.find_element_by_xpath('//*[@id=\"downloadfrm\"]/div/div/div[2]/div[2]/dl/dd[2]').text\n",
    "            RELEASE.append(release)\n",
    "    except:\n",
    "        RELEASE.append(\"\")"
   ]
  },
  {
   "cell_type": "code",
   "execution_count": null,
   "metadata": {},
   "outputs": [],
   "source": [
    "df_202105_top100 = pd.DataFrame({\"Title\":title2,\"Singer\":singer2, \"Genre\": GENRE, \"Release\" : RELEASE, \"Lyric\":LYRIC2})"
   ]
  },
  {
   "cell_type": "code",
   "execution_count": null,
   "metadata": {},
   "outputs": [],
   "source": [
    "df_202105_top100"
   ]
  },
  {
   "cell_type": "code",
   "execution_count": null,
   "metadata": {
    "scrolled": true
   },
   "outputs": [],
   "source": [
    "df_202105_top100['Year'] = 0\n",
    "df_202105_top100['Month'] = 0\n",
    "df_202105_top100['Year_Month'] = 0\n",
    "\n",
    "for i in range(len(df_202105_top100)):\n",
    "    df_202105_top100['Year'][i] = df_202105_top100['Release'][i].split(\".\")[0]\n",
    "    df_202105_top100['Month'][i] = df_202105_top100['Release'][i].split(\".\")[1]\n",
    "    df_202105_top100['Year_Month'][i] = int(str(df_202105_top100['Release'][i].split(\".\")[0]) + str(df_202105_top100['Release'][i].split(\".\")[1]))"
   ]
  },
  {
   "cell_type": "code",
   "execution_count": null,
   "metadata": {},
   "outputs": [],
   "source": [
    "df_202105_top100"
   ]
  },
  {
   "cell_type": "code",
   "execution_count": null,
   "metadata": {},
   "outputs": [],
   "source": [
    "df_202105_top100.to_csv(\"./data/df_202105_top100.csv\", encoding=\"utf-8\", index=False)"
   ]
  },
  {
   "cell_type": "markdown",
   "metadata": {},
   "source": [
    "## 2021.04"
   ]
  },
  {
   "cell_type": "code",
   "execution_count": null,
   "metadata": {},
   "outputs": [],
   "source": [
    "url = 'https://www.melon.com/chart/index.htm' # 멜론차트 페이지\n",
    "driver.get(url)"
   ]
  },
  {
   "cell_type": "code",
   "execution_count": null,
   "metadata": {},
   "outputs": [],
   "source": [
    "# 차트파인더 클릭\n",
    "driver.find_element_by_xpath('//*[@id=\"gnb_menu\"]/ul[1]/li[1]/div/div/button/span').click()\n",
    "\n",
    "# 월간차트 클릭\n",
    "driver.find_element_by_xpath('//*[@id=\"d_chart_search\"]/div/h4[2]/a').click()\n",
    "time.sleep(2)\n",
    "\n",
    "# 연대선택\n",
    "driver.find_element_by_xpath('//*[@id=\"d_chart_search\"]/div/div/div[1]/div[1]/ul/li[1]/span/label').click()\n",
    "time.sleep(2)\n",
    "\n",
    "#연도선택\n",
    "driver.find_element_by_xpath('//*[@id=\"d_chart_search\"]/div/div/div[2]/div[1]/ul/li[1]/span/label').click()\n",
    "time.sleep(2)\n",
    "\n",
    "# 월선택 4월 클릭\n",
    "driver.find_element_by_xpath('//*[@id=\"d_chart_search\"]/div/div/div[3]/div[1]/ul/li[4]/span/label').click()\n",
    "time.sleep(2)\n",
    "\n",
    "# 장르선택 종합 클릭\n",
    "driver.find_element_by_xpath('//*[@id=\"d_chart_search\"]/div/div/div[5]/div[1]/ul/li[1]/span/label').click()\n",
    "time.sleep(2)\n",
    "\n",
    "# 검색버튼 클릭\n",
    "driver.find_element_by_xpath('//*[@id=\"d_srch_form\"]/div[2]/button/span/span').click()\n",
    "time.sleep(2)\n"
   ]
  },
  {
   "cell_type": "code",
   "execution_count": null,
   "metadata": {},
   "outputs": [],
   "source": [
    "title=driver.find_elements_by_class_name('ellipsis.rank01')\n",
    "\n",
    "title2=[]\n",
    "for i in title:\n",
    "    title2.append(i.text)\n",
    "    \n",
    "del title2[50:]\n",
    "\n",
    "singer=driver.find_elements_by_class_name('ellipsis.rank02')\n",
    "\n",
    "singer2=[]\n",
    "for i in singer:\n",
    "    singer2.append(i.text)\n",
    "    \n",
    "del singer2[50:]"
   ]
  },
  {
   "cell_type": "code",
   "execution_count": null,
   "metadata": {},
   "outputs": [],
   "source": [
    "driver.find_element_by_xpath('//*[@id=\"frm\"]/div[2]/span/a').click()\n",
    "\n",
    "title=driver.find_elements_by_class_name('ellipsis.rank01')\n",
    "\n",
    "for i in title:\n",
    "    title2.append(i.text)\n",
    "    \n",
    "del title2[50:100]\n",
    "\n",
    "singer=driver.find_elements_by_class_name('ellipsis.rank02')\n",
    "\n",
    "for i in singer:\n",
    "    singer2.append(i.text)\n",
    "    \n",
    "del singer2[50:100]"
   ]
  },
  {
   "cell_type": "code",
   "execution_count": null,
   "metadata": {},
   "outputs": [],
   "source": [
    "songTagList = driver.find_elements_by_css_selector('#lst50 > td:nth-child(1) > div > input')\n",
    "\n",
    "number = []\n",
    "for i in songTagList:\n",
    "    number.append(i. get_attribute('value'))\n",
    "\n",
    "songTagList = driver.find_elements_by_css_selector('#lst100 > td:nth-child(1) > div > input')\n",
    "\n",
    "for i in songTagList:\n",
    "    number.append(i. get_attribute('value'))"
   ]
  },
  {
   "cell_type": "code",
   "execution_count": null,
   "metadata": {},
   "outputs": [],
   "source": [
    "LYRIC=[]\n",
    "\n",
    "for i in number:\n",
    "    driver.get(\"https://www.melon.com/song/detail.htm?songId=\" + i)\n",
    "    lyric=driver.find_element_by_class_name(\"lyric\")\n",
    "    LYRIC.append(lyric.text)\n",
    "LYRIC2=[]\n",
    "for i in LYRIC:\n",
    "    LYRIC2.append(i.replace(\"\\n\",\" \"))"
   ]
  },
  {
   "cell_type": "code",
   "execution_count": null,
   "metadata": {},
   "outputs": [],
   "source": [
    "GENRE=[]\n",
    "\n",
    "for i in number:\n",
    "    driver.get(\"https://www.melon.com/song/detail.htm?songId=\" + i)\n",
    "    try:\n",
    "        if driver.find_element_by_xpath('//*[@id=\"downloadfrm\"]/div/div/div[2]/div[2]/dl/dd[3]').text:\n",
    "            genre=driver.find_element_by_xpath('//*[@id=\"downloadfrm\"]/div/div/div[2]/div[2]/dl/dd[3]').text\n",
    "            GENRE.append(genre)\n",
    "    except:\n",
    "        GENRE.append(\"\")"
   ]
  },
  {
   "cell_type": "code",
   "execution_count": null,
   "metadata": {},
   "outputs": [],
   "source": [
    "RELEASE=[]\n",
    "\n",
    "for i in number:\n",
    "    driver.get(\"https://www.melon.com/song/detail.htm?songId=\" + i)\n",
    "    try:\n",
    "        if driver.find_element_by_xpath('//*[@id=\"downloadfrm\"]/div/div/div[2]/div[2]/dl/dd[2]').text:\n",
    "            release=driver.find_element_by_xpath('//*[@id=\"downloadfrm\"]/div/div/div[2]/div[2]/dl/dd[2]').text\n",
    "            RELEASE.append(release)\n",
    "    except:\n",
    "        RELEASE.append(\"\")"
   ]
  },
  {
   "cell_type": "code",
   "execution_count": null,
   "metadata": {},
   "outputs": [],
   "source": [
    "df_202104_top100 = pd.DataFrame({\"Title\":title2,\"Singer\":singer2, \"Genre\": GENRE, \"Release\" : RELEASE, \"Lyric\":LYRIC2})"
   ]
  },
  {
   "cell_type": "code",
   "execution_count": null,
   "metadata": {},
   "outputs": [],
   "source": [
    "df_202104_top100['Year'] = 0\n",
    "df_202104_top100['Month'] = 0\n",
    "df_202104_top100['Year_Month'] = 0\n",
    "\n",
    "for i in range(len(df_202104_top100)):\n",
    "    df_202104_top100['Year'][i] = df_202104_top100['Release'][i].split(\".\")[0]\n",
    "    df_202104_top100['Month'][i] = df_202104_top100['Release'][i].split(\".\")[1]\n",
    "    df_202104_top100['Year_Month'][i] = int(str(df_202104_top100['Release'][i].split(\".\")[0]) + str(df_202104_top100['Release'][i].split(\".\")[1]))\n"
   ]
  },
  {
   "cell_type": "code",
   "execution_count": null,
   "metadata": {},
   "outputs": [],
   "source": [
    "df_202104_top100"
   ]
  },
  {
   "cell_type": "code",
   "execution_count": null,
   "metadata": {},
   "outputs": [],
   "source": [
    "df_202104_top100.to_csv(\"./data/df_202104_top100.csv\", encoding=\"utf-8\", index=False)"
   ]
  },
  {
   "cell_type": "markdown",
   "metadata": {},
   "source": [
    "## 2021.03"
   ]
  },
  {
   "cell_type": "code",
   "execution_count": null,
   "metadata": {},
   "outputs": [],
   "source": [
    "url = 'https://www.melon.com/chart/index.htm' # 멜론차트 페이지\n",
    "driver.get(url)"
   ]
  },
  {
   "cell_type": "code",
   "execution_count": null,
   "metadata": {},
   "outputs": [],
   "source": [
    "# 차트파인더 클릭\n",
    "driver.find_element_by_xpath('//*[@id=\"gnb_menu\"]/ul[1]/li[1]/div/div/button/span').click()\n",
    "\n",
    "# 월간차트 클릭\n",
    "driver.find_element_by_xpath('//*[@id=\"d_chart_search\"]/div/h4[2]/a').click()\n",
    "time.sleep(2)\n",
    "\n",
    "# 연대선택\n",
    "driver.find_element_by_xpath('//*[@id=\"d_chart_search\"]/div/div/div[1]/div[1]/ul/li[1]/span/label').click()\n",
    "time.sleep(2)\n",
    "\n",
    "#연도선택\n",
    "driver.find_element_by_xpath('//*[@id=\"d_chart_search\"]/div/div/div[2]/div[1]/ul/li[1]/span/label').click()\n",
    "time.sleep(2)\n",
    "\n",
    "# 월선택 3월 클릭\n",
    "driver.find_element_by_xpath('//*[@id=\"d_chart_search\"]/div/div/div[3]/div[1]/ul/li[3]/span/label').click()\n",
    "time.sleep(2)\n",
    "\n",
    "# 장르선택 종합 클릭\n",
    "driver.find_element_by_xpath('//*[@id=\"d_chart_search\"]/div/div/div[5]/div[1]/ul/li[1]/span/label').click()\n",
    "time.sleep(2)\n",
    "\n",
    "# 검색버튼 클릭\n",
    "driver.find_element_by_xpath('//*[@id=\"d_srch_form\"]/div[2]/button/span/span').click()\n",
    "time.sleep(2)"
   ]
  },
  {
   "cell_type": "code",
   "execution_count": null,
   "metadata": {},
   "outputs": [],
   "source": [
    "title=driver.find_elements_by_class_name('ellipsis.rank01')\n",
    "\n",
    "title2=[]\n",
    "for i in title:\n",
    "    title2.append(i.text)\n",
    "    \n",
    "del title2[50:]\n",
    "\n",
    "singer=driver.find_elements_by_class_name('ellipsis.rank02')\n",
    "\n",
    "singer2=[]\n",
    "for i in singer:\n",
    "    singer2.append(i.text)\n",
    "    \n",
    "del singer2[50:]"
   ]
  },
  {
   "cell_type": "code",
   "execution_count": null,
   "metadata": {},
   "outputs": [],
   "source": [
    "driver.find_element_by_xpath('//*[@id=\"frm\"]/div[2]/span/a').click()\n",
    "\n",
    "title=driver.find_elements_by_class_name('ellipsis.rank01')\n",
    "\n",
    "for i in title:\n",
    "    title2.append(i.text)\n",
    "    \n",
    "del title2[50:100]\n",
    "\n",
    "singer=driver.find_elements_by_class_name('ellipsis.rank02')\n",
    "\n",
    "for i in singer:\n",
    "    singer2.append(i.text)\n",
    "    \n",
    "del singer2[50:100]"
   ]
  },
  {
   "cell_type": "code",
   "execution_count": null,
   "metadata": {},
   "outputs": [],
   "source": [
    "songTagList = driver.find_elements_by_css_selector('#lst50 > td:nth-child(1) > div > input')\n",
    "\n",
    "number = []\n",
    "for i in songTagList:\n",
    "    number.append(i. get_attribute('value'))\n",
    "\n",
    "songTagList = driver.find_elements_by_css_selector('#lst100 > td:nth-child(1) > div > input')\n",
    "\n",
    "for i in songTagList:\n",
    "    number.append(i. get_attribute('value'))"
   ]
  },
  {
   "cell_type": "code",
   "execution_count": null,
   "metadata": {},
   "outputs": [],
   "source": [
    "LYRIC=[]\n",
    "\n",
    "for i in number:\n",
    "    driver.get(\"https://www.melon.com/song/detail.htm?songId=\" + i)\n",
    "    lyric=driver.find_element_by_class_name(\"lyric\")\n",
    "    LYRIC.append(lyric.text)\n",
    "LYRIC2=[]\n",
    "for i in LYRIC:\n",
    "    LYRIC2.append(i.replace(\"\\n\",\" \"))"
   ]
  },
  {
   "cell_type": "code",
   "execution_count": null,
   "metadata": {},
   "outputs": [],
   "source": [
    "GENRE=[]\n",
    "\n",
    "for i in number:\n",
    "    driver.get(\"https://www.melon.com/song/detail.htm?songId=\" + i)\n",
    "    try:\n",
    "        if driver.find_element_by_xpath('//*[@id=\"downloadfrm\"]/div/div/div[2]/div[2]/dl/dd[3]').text:\n",
    "            genre=driver.find_element_by_xpath('//*[@id=\"downloadfrm\"]/div/div/div[2]/div[2]/dl/dd[3]').text\n",
    "            GENRE.append(genre)\n",
    "    except:\n",
    "        GENRE.append(\"\")"
   ]
  },
  {
   "cell_type": "code",
   "execution_count": null,
   "metadata": {},
   "outputs": [],
   "source": [
    "RELEASE=[]\n",
    "\n",
    "for i in number:\n",
    "    driver.get(\"https://www.melon.com/song/detail.htm?songId=\" + i)\n",
    "    try:\n",
    "        if driver.find_element_by_xpath('//*[@id=\"downloadfrm\"]/div/div/div[2]/div[2]/dl/dd[2]').text:\n",
    "            release=driver.find_element_by_xpath('//*[@id=\"downloadfrm\"]/div/div/div[2]/div[2]/dl/dd[2]').text\n",
    "            RELEASE.append(release)\n",
    "    except:\n",
    "        RELEASE.append(\"\")"
   ]
  },
  {
   "cell_type": "code",
   "execution_count": null,
   "metadata": {},
   "outputs": [],
   "source": [
    "df_202103_top100 = pd.DataFrame({\"Title\":title2,\"Singer\":singer2, \"Genre\": GENRE, \"Release\" : RELEASE, \"Lyric\":LYRIC2})"
   ]
  },
  {
   "cell_type": "code",
   "execution_count": null,
   "metadata": {},
   "outputs": [],
   "source": [
    "df_202103_top100['Year'] = 0\n",
    "df_202103_top100['Month'] = 0\n",
    "df_202103_top100['Year_Month'] = 0\n",
    "\n",
    "for i in range(len(df_202103_top100)):\n",
    "    df_202103_top100['Year'][i] = df_202103_top100['Release'][i].split(\".\")[0]\n",
    "    df_202103_top100['Month'][i] = df_202103_top100['Release'][i].split(\".\")[1]\n",
    "    df_202103_top100['Year_Month'][i] = int(str(df_202103_top100['Release'][i].split(\".\")[0]) + str(df_202103_top100['Release'][i].split(\".\")[1]))\n"
   ]
  },
  {
   "cell_type": "code",
   "execution_count": null,
   "metadata": {},
   "outputs": [],
   "source": [
    "df_202103_top100"
   ]
  },
  {
   "cell_type": "code",
   "execution_count": null,
   "metadata": {},
   "outputs": [],
   "source": [
    "df_202103_top100.to_csv(\"./data/df_202103_top100.csv\", encoding=\"utf-8\", index=False)"
   ]
  },
  {
   "cell_type": "markdown",
   "metadata": {},
   "source": [
    "## 2021.02"
   ]
  },
  {
   "cell_type": "code",
   "execution_count": null,
   "metadata": {},
   "outputs": [],
   "source": [
    "url = 'https://www.melon.com/chart/index.htm' # 멜론차트 페이지\n",
    "driver.get(url)"
   ]
  },
  {
   "cell_type": "code",
   "execution_count": null,
   "metadata": {},
   "outputs": [],
   "source": [
    "# 차트파인더 클릭\n",
    "driver.find_element_by_xpath('//*[@id=\"gnb_menu\"]/ul[1]/li[1]/div/div/button/span').click()\n",
    "\n",
    "# 월간차트 클릭\n",
    "driver.find_element_by_xpath('//*[@id=\"d_chart_search\"]/div/h4[2]/a').click()\n",
    "time.sleep(2)\n",
    "\n",
    "# 연대선택\n",
    "driver.find_element_by_xpath('//*[@id=\"d_chart_search\"]/div/div/div[1]/div[1]/ul/li[1]/span/label').click()\n",
    "time.sleep(2)\n",
    "\n",
    "#연도선택\n",
    "driver.find_element_by_xpath('//*[@id=\"d_chart_search\"]/div/div/div[2]/div[1]/ul/li[1]/span/label').click()\n",
    "time.sleep(2)\n",
    "\n",
    "# 월선택 2월 클릭\n",
    "driver.find_element_by_xpath('//*[@id=\"d_chart_search\"]/div/div/div[3]/div[1]/ul/li[2]/span/label').click()\n",
    "time.sleep(2)\n",
    "\n",
    "# 장르선택 종합 클릭\n",
    "driver.find_element_by_xpath('//*[@id=\"d_chart_search\"]/div/div/div[5]/div[1]/ul/li[1]/span/label').click()\n",
    "time.sleep(2)\n",
    "\n",
    "# 검색버튼 클릭\n",
    "driver.find_element_by_xpath('//*[@id=\"d_srch_form\"]/div[2]/button/span/span').click()\n",
    "time.sleep(2)"
   ]
  },
  {
   "cell_type": "code",
   "execution_count": null,
   "metadata": {},
   "outputs": [],
   "source": [
    "title=driver.find_elements_by_class_name('ellipsis.rank01')\n",
    "\n",
    "title2=[]\n",
    "for i in title:\n",
    "    title2.append(i.text)\n",
    "    \n",
    "del title2[50:]\n",
    "\n",
    "singer=driver.find_elements_by_class_name('ellipsis.rank02')\n",
    "\n",
    "singer2=[]\n",
    "for i in singer:\n",
    "    singer2.append(i.text)\n",
    "    \n",
    "del singer2[50:]"
   ]
  },
  {
   "cell_type": "code",
   "execution_count": null,
   "metadata": {},
   "outputs": [],
   "source": [
    "driver.find_element_by_xpath('//*[@id=\"frm\"]/div[2]/span/a').click()\n",
    "\n",
    "title=driver.find_elements_by_class_name('ellipsis.rank01')\n",
    "\n",
    "for i in title:\n",
    "    title2.append(i.text)\n",
    "    \n",
    "del title2[50:100]\n",
    "\n",
    "singer=driver.find_elements_by_class_name('ellipsis.rank02')\n",
    "\n",
    "for i in singer:\n",
    "    singer2.append(i.text)\n",
    "    \n",
    "del singer2[50:100]"
   ]
  },
  {
   "cell_type": "code",
   "execution_count": null,
   "metadata": {},
   "outputs": [],
   "source": [
    "songTagList = driver.find_elements_by_css_selector('#lst50 > td:nth-child(1) > div > input')\n",
    "\n",
    "number = []\n",
    "for i in songTagList:\n",
    "    number.append(i. get_attribute('value'))\n",
    "\n",
    "songTagList = driver.find_elements_by_css_selector('#lst100 > td:nth-child(1) > div > input')\n",
    "\n",
    "for i in songTagList:\n",
    "    number.append(i. get_attribute('value'))"
   ]
  },
  {
   "cell_type": "code",
   "execution_count": null,
   "metadata": {},
   "outputs": [],
   "source": [
    "LYRIC=[]\n",
    "\n",
    "for i in number:\n",
    "    driver.get(\"https://www.melon.com/song/detail.htm?songId=\" + i)\n",
    "    lyric=driver.find_element_by_class_name(\"lyric\")\n",
    "    LYRIC.append(lyric.text)\n",
    "LYRIC2=[]\n",
    "for i in LYRIC:\n",
    "    LYRIC2.append(i.replace(\"\\n\",\" \"))"
   ]
  },
  {
   "cell_type": "code",
   "execution_count": null,
   "metadata": {},
   "outputs": [],
   "source": [
    "GENRE=[]\n",
    "\n",
    "for i in number:\n",
    "    driver.get(\"https://www.melon.com/song/detail.htm?songId=\" + i)\n",
    "    try:\n",
    "        if driver.find_element_by_xpath('//*[@id=\"downloadfrm\"]/div/div/div[2]/div[2]/dl/dd[3]').text:\n",
    "            genre=driver.find_element_by_xpath('//*[@id=\"downloadfrm\"]/div/div/div[2]/div[2]/dl/dd[3]').text\n",
    "            GENRE.append(genre)\n",
    "    except:\n",
    "        GENRE.append(\"\")"
   ]
  },
  {
   "cell_type": "code",
   "execution_count": null,
   "metadata": {},
   "outputs": [],
   "source": [
    "RELEASE=[]\n",
    "\n",
    "for i in number:\n",
    "    driver.get(\"https://www.melon.com/song/detail.htm?songId=\" + i)\n",
    "    try:\n",
    "        if driver.find_element_by_xpath('//*[@id=\"downloadfrm\"]/div/div/div[2]/div[2]/dl/dd[2]').text:\n",
    "            release=driver.find_element_by_xpath('//*[@id=\"downloadfrm\"]/div/div/div[2]/div[2]/dl/dd[2]').text\n",
    "            RELEASE.append(release)\n",
    "    except:\n",
    "        RELEASE.append(\"\")"
   ]
  },
  {
   "cell_type": "code",
   "execution_count": null,
   "metadata": {},
   "outputs": [],
   "source": [
    "df_202102_top100 = pd.DataFrame({\"Title\":title2,\"Singer\":singer2, \"Genre\": GENRE, \"Release\" : RELEASE, \"Lyric\":LYRIC2})"
   ]
  },
  {
   "cell_type": "code",
   "execution_count": null,
   "metadata": {},
   "outputs": [],
   "source": [
    "df_202102_top100['Year'] = 0\n",
    "df_202102_top100['Month'] = 0\n",
    "df_202102_top100['Year_Month'] = 0\n",
    "\n",
    "for i in range(len(df_202102_top100)):\n",
    "    df_202102_top100['Year'][i] = df_202102_top100['Release'][i].split(\".\")[0]\n",
    "    df_202102_top100['Month'][i] = df_202102_top100['Release'][i].split(\".\")[1]\n",
    "    df_202102_top100['Year_Month'][i] = int(str(df_202102_top100['Release'][i].split(\".\")[0]) + str(df_202102_top100['Release'][i].split(\".\")[1]))\n"
   ]
  },
  {
   "cell_type": "code",
   "execution_count": null,
   "metadata": {
    "scrolled": true
   },
   "outputs": [],
   "source": [
    "df_202102_top100"
   ]
  },
  {
   "cell_type": "code",
   "execution_count": null,
   "metadata": {},
   "outputs": [],
   "source": [
    "df_202102_top100.to_csv(\"./data/df_202102_top100.csv\", encoding=\"utf-8\", index=False)"
   ]
  },
  {
   "cell_type": "markdown",
   "metadata": {},
   "source": [
    "## 2021.01"
   ]
  },
  {
   "cell_type": "code",
   "execution_count": null,
   "metadata": {},
   "outputs": [],
   "source": [
    "url = 'https://www.melon.com/chart/index.htm' # 멜론차트 페이지\n",
    "driver.get(url)"
   ]
  },
  {
   "cell_type": "code",
   "execution_count": null,
   "metadata": {},
   "outputs": [],
   "source": [
    "# 차트파인더 클릭\n",
    "driver.find_element_by_xpath('//*[@id=\"gnb_menu\"]/ul[1]/li[1]/div/div/button/span').click()\n",
    "\n",
    "# 월간차트 클릭\n",
    "driver.find_element_by_xpath('//*[@id=\"d_chart_search\"]/div/h4[2]/a').click()\n",
    "time.sleep(2)\n",
    "\n",
    "# 연대선택\n",
    "driver.find_element_by_xpath('//*[@id=\"d_chart_search\"]/div/div/div[1]/div[1]/ul/li[1]/span/label').click()\n",
    "time.sleep(2)\n",
    "\n",
    "#연도선택\n",
    "driver.find_element_by_xpath('//*[@id=\"d_chart_search\"]/div/div/div[2]/div[1]/ul/li[1]/span/label').click()\n",
    "time.sleep(2)\n",
    "\n",
    "# 월선택 1월 클릭\n",
    "driver.find_element_by_xpath('//*[@id=\"d_chart_search\"]/div/div/div[3]/div[1]/ul/li[1]/span/label').click()\n",
    "time.sleep(2)\n",
    "\n",
    "# 장르선택 종합 클릭\n",
    "driver.find_element_by_xpath('//*[@id=\"d_chart_search\"]/div/div/div[5]/div[1]/ul/li[1]/span/label').click()\n",
    "time.sleep(2)\n",
    "\n",
    "# 검색버튼 클릭\n",
    "driver.find_element_by_xpath('//*[@id=\"d_srch_form\"]/div[2]/button/span/span').click()\n",
    "time.sleep(2)"
   ]
  },
  {
   "cell_type": "code",
   "execution_count": null,
   "metadata": {},
   "outputs": [],
   "source": [
    "title=driver.find_elements_by_class_name('ellipsis.rank01')\n",
    "\n",
    "title2=[]\n",
    "for i in title:\n",
    "    title2.append(i.text)\n",
    "    \n",
    "del title2[50:]\n",
    "\n",
    "singer=driver.find_elements_by_class_name('ellipsis.rank02')\n",
    "\n",
    "singer2=[]\n",
    "for i in singer:\n",
    "    singer2.append(i.text)\n",
    "    \n",
    "del singer2[50:]"
   ]
  },
  {
   "cell_type": "code",
   "execution_count": null,
   "metadata": {},
   "outputs": [],
   "source": [
    "driver.find_element_by_xpath('//*[@id=\"frm\"]/div[2]/span/a').click()\n",
    "\n",
    "title=driver.find_elements_by_class_name('ellipsis.rank01')\n",
    "\n",
    "for i in title:\n",
    "    title2.append(i.text)\n",
    "    \n",
    "del title2[50:100]\n",
    "\n",
    "singer=driver.find_elements_by_class_name('ellipsis.rank02')\n",
    "\n",
    "for i in singer:\n",
    "    singer2.append(i.text)\n",
    "    \n",
    "del singer2[50:100]"
   ]
  },
  {
   "cell_type": "code",
   "execution_count": null,
   "metadata": {},
   "outputs": [],
   "source": [
    "songTagList = driver.find_elements_by_css_selector('#lst50 > td:nth-child(1) > div > input')\n",
    "\n",
    "number = []\n",
    "for i in songTagList:\n",
    "    number.append(i. get_attribute('value'))\n",
    "\n",
    "songTagList = driver.find_elements_by_css_selector('#lst100 > td:nth-child(1) > div > input')\n",
    "\n",
    "for i in songTagList:\n",
    "    number.append(i. get_attribute('value'))"
   ]
  },
  {
   "cell_type": "code",
   "execution_count": null,
   "metadata": {},
   "outputs": [],
   "source": [
    "len(number)"
   ]
  },
  {
   "cell_type": "code",
   "execution_count": null,
   "metadata": {},
   "outputs": [],
   "source": [
    "LYRIC=[]\n",
    "\n",
    "for i in number:\n",
    "    driver.get(\"https://www.melon.com/song/detail.htm?songId=\" + i)\n",
    "    lyric=driver.find_element_by_class_name(\"lyric\")\n",
    "    LYRIC.append(lyric.text)\n",
    "LYRIC2=[]\n",
    "for i in LYRIC:\n",
    "    LYRIC2.append(i.replace(\"\\n\",\" \"))"
   ]
  },
  {
   "cell_type": "code",
   "execution_count": null,
   "metadata": {},
   "outputs": [],
   "source": [
    "GENRE=[]\n",
    "\n",
    "for i in number:\n",
    "    driver.get(\"https://www.melon.com/song/detail.htm?songId=\" + i)\n",
    "    try:\n",
    "        if driver.find_element_by_xpath('//*[@id=\"downloadfrm\"]/div/div/div[2]/div[2]/dl/dd[3]').text:\n",
    "            genre=driver.find_element_by_xpath('//*[@id=\"downloadfrm\"]/div/div/div[2]/div[2]/dl/dd[3]').text\n",
    "            GENRE.append(genre)\n",
    "    except:\n",
    "        GENRE.append(\"\")"
   ]
  },
  {
   "cell_type": "code",
   "execution_count": null,
   "metadata": {},
   "outputs": [],
   "source": [
    "RELEASE=[]\n",
    "\n",
    "for i in number:\n",
    "    driver.get(\"https://www.melon.com/song/detail.htm?songId=\" + i)\n",
    "    try:\n",
    "        if driver.find_element_by_xpath('//*[@id=\"downloadfrm\"]/div/div/div[2]/div[2]/dl/dd[2]').text:\n",
    "            release=driver.find_element_by_xpath('//*[@id=\"downloadfrm\"]/div/div/div[2]/div[2]/dl/dd[2]').text\n",
    "            RELEASE.append(release)\n",
    "    except:\n",
    "        RELEASE.append(\"\")"
   ]
  },
  {
   "cell_type": "code",
   "execution_count": null,
   "metadata": {},
   "outputs": [],
   "source": [
    "df_202101_top100 = pd.DataFrame({\"Title\":title2,\"Singer\":singer2, \"Genre\": GENRE, \"Release\" : RELEASE, \"Lyric\":LYRIC2})"
   ]
  },
  {
   "cell_type": "code",
   "execution_count": null,
   "metadata": {},
   "outputs": [],
   "source": [
    "df_202101_top100"
   ]
  },
  {
   "cell_type": "code",
   "execution_count": null,
   "metadata": {},
   "outputs": [],
   "source": [
    "df_202101_top100['Year'] = 0\n",
    "df_202101_top100['Month'] = 0\n",
    "df_202101_top100['Year_Month'] = 0\n",
    "\n",
    "for i in range(len(df_202101_top100)):\n",
    "    df_202101_top100['Year'][i] = df_202101_top100['Release'][i].split(\".\")[0]\n",
    "    df_202101_top100['Month'][i] = df_202101_top100['Release'][i].split(\".\")[1]\n",
    "    df_202101_top100['Year_Month'][i] = int(str(df_202101_top100['Release'][i].split(\".\")[0]) + str(df_202101_top100['Release'][i].split(\".\")[1]))\n"
   ]
  },
  {
   "cell_type": "code",
   "execution_count": null,
   "metadata": {},
   "outputs": [],
   "source": [
    "df_202101_top100"
   ]
  },
  {
   "cell_type": "code",
   "execution_count": null,
   "metadata": {},
   "outputs": [],
   "source": [
    "df_202101_top100.to_csv(\"./data/df_202101_top100.csv\", encoding=\"utf-8\", index=False)"
   ]
  },
  {
   "cell_type": "markdown",
   "metadata": {},
   "source": [
    "# 연도별"
   ]
  },
  {
   "cell_type": "markdown",
   "metadata": {},
   "source": [
    "## 2020"
   ]
  },
  {
   "cell_type": "code",
   "execution_count": null,
   "metadata": {},
   "outputs": [],
   "source": [
    "driver.get(\"https://www.melon.com/chart/age/index.htm?chartType=YE&chartGenre=KPOP&chartDate=2020#params%5Bidx%5D=1\")"
   ]
  },
  {
   "cell_type": "code",
   "execution_count": null,
   "metadata": {},
   "outputs": [],
   "source": [
    "title=driver.find_elements_by_class_name('ellipsis.rank01')\n",
    "\n",
    "title2=[]\n",
    "for i in title:\n",
    "    title2.append(i.text)\n",
    "\n",
    "del title2[50:]"
   ]
  },
  {
   "cell_type": "code",
   "execution_count": null,
   "metadata": {},
   "outputs": [],
   "source": [
    "driver.get(\"https://www.melon.com/chart/age/index.htm?chartType=YE&chartGenre=KPOP&chartDate=2020#params%5Bidx%5D=51\")"
   ]
  },
  {
   "cell_type": "code",
   "execution_count": null,
   "metadata": {},
   "outputs": [],
   "source": [
    "title=driver.find_elements_by_class_name('ellipsis.rank01')\n",
    "\n",
    "for i in title:\n",
    "    title2.append(i.text)"
   ]
  },
  {
   "cell_type": "code",
   "execution_count": null,
   "metadata": {
    "scrolled": true
   },
   "outputs": [],
   "source": [
    "title = title2[:50]+title2[100:]"
   ]
  },
  {
   "cell_type": "code",
   "execution_count": null,
   "metadata": {},
   "outputs": [],
   "source": [
    "len(title)"
   ]
  },
  {
   "cell_type": "code",
   "execution_count": null,
   "metadata": {},
   "outputs": [],
   "source": [
    "driver.get(\"https://www.melon.com/chart/age/index.htm?chartType=YE&chartGenre=KPOP&chartDate=2020#params%5Bidx%5D=1\")\n",
    "\n",
    "singer=driver.find_elements_by_class_name('ellipsis.rank02')\n",
    "\n",
    "singer2=[]\n",
    "for i in singer:\n",
    "    singer2.append(i.text)\n",
    "    \n",
    "del singer2[50:]"
   ]
  },
  {
   "cell_type": "code",
   "execution_count": null,
   "metadata": {},
   "outputs": [],
   "source": [
    "driver.get(\"https://www.melon.com/chart/age/index.htm?chartType=YE&chartGenre=KPOP&chartDate=2020#params%5Bidx%5D=51\")\n",
    "\n",
    "singer=driver.find_elements_by_class_name('ellipsis.rank02')\n",
    "\n",
    "for i in singer:\n",
    "    singer2.append(i.text)"
   ]
  },
  {
   "cell_type": "code",
   "execution_count": null,
   "metadata": {},
   "outputs": [],
   "source": [
    "singer = singer2[:50]+singer2[102:]"
   ]
  },
  {
   "cell_type": "code",
   "execution_count": null,
   "metadata": {},
   "outputs": [],
   "source": [
    "len(singer)"
   ]
  },
  {
   "cell_type": "code",
   "execution_count": null,
   "metadata": {
    "scrolled": true
   },
   "outputs": [],
   "source": [
    "driver.get(\"https://www.melon.com/chart/age/index.htm?chartType=YE&chartGenre=KPOP&chartDate=2020#params%5Bidx%5D=1\")\n",
    "\n",
    "songTagList = driver.find_elements_by_css_selector('#lst50 > td:nth-child(1) > div > input')\n",
    "\n",
    "number = []\n",
    "for i in songTagList:\n",
    "    number.append(i. get_attribute('value'))\n",
    "    \n",
    "number"
   ]
  },
  {
   "cell_type": "code",
   "execution_count": null,
   "metadata": {
    "scrolled": true
   },
   "outputs": [],
   "source": [
    "driver.get(\"https://www.melon.com/chart/age/index.htm?chartType=YE&chartGenre=KPOP&chartDate=2020#params%5Bidx%5D=51\")\n",
    "\n",
    "songTagList = driver.find_elements_by_css_selector('#lst100 > td:nth-child(1) > div > input')\n",
    "\n",
    "for i in songTagList:\n",
    "    number.append(i. get_attribute('value'))\n",
    "    \n",
    "number"
   ]
  },
  {
   "cell_type": "code",
   "execution_count": null,
   "metadata": {},
   "outputs": [],
   "source": [
    "LYRIC=[]\n",
    "\n",
    "for i in number:\n",
    "    driver.get(\"https://www.melon.com/song/detail.htm?songId=\" + i)\n",
    "    try:\n",
    "        if driver.find_element_by_class_name(\"lyric\"):\n",
    "            lyric=driver.find_element_by_class_name(\"lyric\")\n",
    "            LYRIC.append(lyric.text)\n",
    "    except:\n",
    "        LYRIC.append(\"\")"
   ]
  },
  {
   "cell_type": "code",
   "execution_count": null,
   "metadata": {},
   "outputs": [],
   "source": [
    "LYRIC2=[]\n",
    "for i in LYRIC:\n",
    "    LYRIC2.append(i.replace(\"\\n\",\" \"))"
   ]
  },
  {
   "cell_type": "code",
   "execution_count": null,
   "metadata": {},
   "outputs": [],
   "source": [
    "len(LYRIC2)"
   ]
  },
  {
   "cell_type": "code",
   "execution_count": null,
   "metadata": {},
   "outputs": [],
   "source": [
    "GENRE=[]\n",
    "\n",
    "for i in number:\n",
    "    driver.get(\"https://www.melon.com/song/detail.htm?songId=\" + i)\n",
    "    try:\n",
    "        if driver.find_element_by_xpath('//*[@id=\"downloadfrm\"]/div/div/div[2]/div[2]/dl/dd[3]').text:\n",
    "            genre=driver.find_element_by_xpath('//*[@id=\"downloadfrm\"]/div/div/div[2]/div[2]/dl/dd[3]').text\n",
    "            GENRE.append(genre)\n",
    "    except:\n",
    "        GENRE.append(\"\")"
   ]
  },
  {
   "cell_type": "code",
   "execution_count": null,
   "metadata": {},
   "outputs": [],
   "source": [
    "len(GENRE)"
   ]
  },
  {
   "cell_type": "code",
   "execution_count": null,
   "metadata": {},
   "outputs": [],
   "source": [
    "top100_2020 = pd.DataFrame({\"Title\":title,\"Singer\":singer, \"Genre\": GENRE, \"Lyric\" : LYRIC2})"
   ]
  },
  {
   "cell_type": "code",
   "execution_count": null,
   "metadata": {},
   "outputs": [],
   "source": [
    "top100_2020"
   ]
  },
  {
   "cell_type": "code",
   "execution_count": null,
   "metadata": {},
   "outputs": [],
   "source": [
    "top100_2020.to_csv(\"./data/top100_2020.csv\", encoding=\"utf-8\", index=False)"
   ]
  },
  {
   "cell_type": "markdown",
   "metadata": {},
   "source": [
    "## 2010"
   ]
  },
  {
   "cell_type": "code",
   "execution_count": null,
   "metadata": {},
   "outputs": [],
   "source": [
    "driver.get(\"https://www.melon.com/chart/age/index.htm?chartType=YE&chartGenre=KPOP&chartDate=2010#params%5Bidx%5D=1\")\n",
    "\n",
    "title=driver.find_elements_by_class_name('ellipsis.rank01')\n",
    "\n",
    "title2=[]\n",
    "for i in title:\n",
    "    title2.append(i.text)\n",
    "\n",
    "del title2[50:]"
   ]
  },
  {
   "cell_type": "code",
   "execution_count": null,
   "metadata": {},
   "outputs": [],
   "source": [
    "driver.get(\"https://www.melon.com/chart/age/index.htm?chartType=YE&chartGenre=KPOP&chartDate=2010#params%5Bidx%5D=51\")\n",
    "\n",
    "title=driver.find_elements_by_class_name('ellipsis.rank01')\n",
    "\n",
    "for i in title:\n",
    "    title2.append(i.text)"
   ]
  },
  {
   "cell_type": "code",
   "execution_count": null,
   "metadata": {},
   "outputs": [],
   "source": [
    "title = title2[:50]+title2[100:]\n",
    "len(title)"
   ]
  },
  {
   "cell_type": "code",
   "execution_count": null,
   "metadata": {},
   "outputs": [],
   "source": [
    "driver.get(\"https://www.melon.com/chart/age/index.htm?chartType=YE&chartGenre=KPOP&chartDate=2010#params%5Bidx%5D=1\")\n",
    "\n",
    "singer=driver.find_elements_by_class_name('ellipsis.rank02')\n",
    "\n",
    "singer2=[]\n",
    "for i in singer:\n",
    "    singer2.append(i.text)\n",
    "    \n",
    "del singer2[50:]"
   ]
  },
  {
   "cell_type": "code",
   "execution_count": null,
   "metadata": {},
   "outputs": [],
   "source": [
    "driver.get(\"https://www.melon.com/chart/age/index.htm?chartType=YE&chartGenre=KPOP&chartDate=2010#params%5Bidx%5D=51\")\n",
    "\n",
    "singer=driver.find_elements_by_class_name('ellipsis.rank02')\n",
    "\n",
    "for i in singer:\n",
    "    singer2.append(i.text)"
   ]
  },
  {
   "cell_type": "code",
   "execution_count": null,
   "metadata": {},
   "outputs": [],
   "source": [
    "singer = singer2[:50]+singer2[100:]\n",
    "len(singer)"
   ]
  },
  {
   "cell_type": "code",
   "execution_count": null,
   "metadata": {
    "scrolled": true
   },
   "outputs": [],
   "source": [
    "driver.get(\"https://www.melon.com/chart/age/index.htm?chartType=YE&chartGenre=KPOP&chartDate=2010#params%5Bidx%5D=1\")\n",
    "\n",
    "songTagList = driver.find_elements_by_css_selector('#lst50 > td:nth-child(1) > div > input')\n",
    "\n",
    "number1 = []\n",
    "for i in songTagList:\n",
    "    number1.append(i. get_attribute('value'))\n",
    "\n",
    "del number1[50:]\n",
    "\n",
    "number1"
   ]
  },
  {
   "cell_type": "code",
   "execution_count": null,
   "metadata": {},
   "outputs": [],
   "source": [
    "len(number1)"
   ]
  },
  {
   "cell_type": "code",
   "execution_count": null,
   "metadata": {
    "scrolled": true
   },
   "outputs": [],
   "source": [
    "driver.get(\"https://www.melon.com/chart/age/index.htm?chartType=YE&chartGenre=KPOP&chartDate=2010#params%5Bidx%5D=51\")\n",
    "\n",
    "songTagList = driver.find_elements_by_css_selector('#lst100 > td:nth-child(1) > div > input')\n",
    "\n",
    "number2 = []\n",
    "for i in songTagList:\n",
    "    number2.append(i. get_attribute('value'))\n",
    "    \n",
    "number2"
   ]
  },
  {
   "cell_type": "code",
   "execution_count": null,
   "metadata": {
    "scrolled": true
   },
   "outputs": [],
   "source": [
    "len(number2)"
   ]
  },
  {
   "cell_type": "code",
   "execution_count": null,
   "metadata": {},
   "outputs": [],
   "source": [
    "number_f = number1 + number2"
   ]
  },
  {
   "cell_type": "code",
   "execution_count": null,
   "metadata": {},
   "outputs": [],
   "source": [
    "len(number_f)"
   ]
  },
  {
   "cell_type": "code",
   "execution_count": null,
   "metadata": {},
   "outputs": [],
   "source": [
    "LYRIC=[]\n",
    "\n",
    "for i in number_f:\n",
    "    driver.get(\"https://www.melon.com/song/detail.htm?songId=\" + i)\n",
    "    try:\n",
    "        if driver.find_element_by_class_name(\"lyric\"):\n",
    "            lyric=driver.find_element_by_class_name(\"lyric\")\n",
    "            LYRIC.append(lyric.text)\n",
    "    except:\n",
    "        LYRIC.append(\"\")"
   ]
  },
  {
   "cell_type": "code",
   "execution_count": null,
   "metadata": {},
   "outputs": [],
   "source": [
    "LYRIC2=[]\n",
    "for i in LYRIC:\n",
    "    LYRIC2.append(i.replace(\"\\n\",\" \"))"
   ]
  },
  {
   "cell_type": "code",
   "execution_count": null,
   "metadata": {},
   "outputs": [],
   "source": [
    "len(LYRIC2)"
   ]
  },
  {
   "cell_type": "code",
   "execution_count": null,
   "metadata": {},
   "outputs": [],
   "source": [
    "GENRE=[]\n",
    "\n",
    "for i in number_f:\n",
    "    driver.get(\"https://www.melon.com/song/detail.htm?songId=\" + i)\n",
    "    try:\n",
    "        if driver.find_element_by_xpath('//*[@id=\"downloadfrm\"]/div/div/div[2]/div[2]/dl/dd[3]').text:\n",
    "            genre=driver.find_element_by_xpath('//*[@id=\"downloadfrm\"]/div/div/div[2]/div[2]/dl/dd[3]').text\n",
    "            GENRE.append(genre)\n",
    "    except:\n",
    "        GENRE.append(\"\")"
   ]
  },
  {
   "cell_type": "code",
   "execution_count": null,
   "metadata": {},
   "outputs": [],
   "source": [
    "top100_2010 = pd.DataFrame({\"Title\":title,\"Singer\":singer, \"Genre\": GENRE, \"Lyric\" : LYRIC2})"
   ]
  },
  {
   "cell_type": "code",
   "execution_count": null,
   "metadata": {},
   "outputs": [],
   "source": [
    "top100_2010"
   ]
  },
  {
   "cell_type": "code",
   "execution_count": null,
   "metadata": {},
   "outputs": [],
   "source": [
    "top100_2010.to_csv(\"./data/top100_2010.csv\", encoding=\"utf-8\", index=False)"
   ]
  },
  {
   "cell_type": "markdown",
   "metadata": {},
   "source": [
    "## 2000"
   ]
  },
  {
   "cell_type": "code",
   "execution_count": null,
   "metadata": {},
   "outputs": [],
   "source": [
    "driver.get(\"https://www.melon.com/chart/age/index.htm?chartType=YE&chartGenre=KPOP&chartDate=2000#params%5Bidx%5D=1\")\n",
    "\n",
    "title=driver.find_elements_by_class_name('ellipsis.rank01')\n",
    "\n",
    "title2=[]\n",
    "for i in title:\n",
    "    title2.append(i.text)\n",
    "\n",
    "del title2[50:]"
   ]
  },
  {
   "cell_type": "code",
   "execution_count": null,
   "metadata": {},
   "outputs": [],
   "source": [
    "driver.get(\"https://www.melon.com/chart/age/index.htm?chartType=YE&chartGenre=KPOP&chartDate=2000#params%5Bidx%5D=51\")\n",
    "\n",
    "title=driver.find_elements_by_class_name('ellipsis.rank01')\n",
    "\n",
    "for i in title:\n",
    "    title2.append(i.text)"
   ]
  },
  {
   "cell_type": "code",
   "execution_count": null,
   "metadata": {},
   "outputs": [],
   "source": [
    "title = title2[:50]+title2[101:]\n",
    "len(title)"
   ]
  },
  {
   "cell_type": "code",
   "execution_count": null,
   "metadata": {},
   "outputs": [],
   "source": [
    "title"
   ]
  },
  {
   "cell_type": "code",
   "execution_count": null,
   "metadata": {},
   "outputs": [],
   "source": [
    "driver.get(\"https://www.melon.com/chart/age/index.htm?chartType=YE&chartGenre=KPOP&chartDate=2000#params%5Bidx%5D=1\")\n",
    "\n",
    "singer=driver.find_elements_by_class_name('ellipsis.rank02')\n",
    "\n",
    "singer_2=[]\n",
    "for i in singer:\n",
    "    singer_2.append(i.text)\n",
    "    \n",
    "del singer_2[50:]"
   ]
  },
  {
   "cell_type": "code",
   "execution_count": null,
   "metadata": {},
   "outputs": [],
   "source": [
    "driver.get(\"https://www.melon.com/chart/age/index.htm?chartType=YE&chartGenre=KPOP&chartDate=2000#params%5Bidx%5D=51\")\n",
    "\n",
    "singer=driver.find_elements_by_class_name('ellipsis.rank02')\n",
    "\n",
    "for i in singer:\n",
    "    singer_2.append(i.text)"
   ]
  },
  {
   "cell_type": "code",
   "execution_count": null,
   "metadata": {},
   "outputs": [],
   "source": [
    "singer = singer_2[:50]+singer_2[101:]\n",
    "len(singer)"
   ]
  },
  {
   "cell_type": "code",
   "execution_count": null,
   "metadata": {
    "scrolled": true
   },
   "outputs": [],
   "source": [
    "singer"
   ]
  },
  {
   "cell_type": "code",
   "execution_count": null,
   "metadata": {},
   "outputs": [],
   "source": [
    "driver.get(\"https://www.melon.com/chart/age/index.htm?chartType=YE&chartGenre=KPOP&chartDate=2000#params%5Bidx%5D=1\")\n",
    "\n",
    "songTagList = driver.find_elements_by_css_selector('#lst50 > td:nth-child(1) > div > input')\n",
    "\n",
    "number1 = []\n",
    "for i in songTagList:\n",
    "    number1.append(i. get_attribute('value'))"
   ]
  },
  {
   "cell_type": "code",
   "execution_count": null,
   "metadata": {},
   "outputs": [],
   "source": [
    "driver.get(\"https://www.melon.com/chart/age/index.htm?chartType=YE&chartGenre=KPOP&chartDate=2000#params%5Bidx%5D=51\")\n",
    "\n",
    "songTagList = driver.find_elements_by_css_selector('#lst100 > td:nth-child(1) > div > input')\n",
    "\n",
    "number2 = []\n",
    "for i in songTagList:\n",
    "    number2.append(i. get_attribute('value'))"
   ]
  },
  {
   "cell_type": "code",
   "execution_count": null,
   "metadata": {},
   "outputs": [],
   "source": [
    "number = number1 + number2"
   ]
  },
  {
   "cell_type": "code",
   "execution_count": null,
   "metadata": {},
   "outputs": [],
   "source": [
    "len(number)"
   ]
  },
  {
   "cell_type": "code",
   "execution_count": null,
   "metadata": {},
   "outputs": [],
   "source": [
    "LYRIC=[]\n",
    "\n",
    "for i in number:\n",
    "    driver.get(\"https://www.melon.com/song/detail.htm?songId=\" + i)\n",
    "    try:\n",
    "        if driver.find_element_by_class_name(\"lyric\"):\n",
    "            lyric=driver.find_element_by_class_name(\"lyric\")\n",
    "            LYRIC.append(lyric.text)\n",
    "    except:\n",
    "        LYRIC.append(\"\")"
   ]
  },
  {
   "cell_type": "code",
   "execution_count": null,
   "metadata": {},
   "outputs": [],
   "source": [
    "LYRIC2=[]\n",
    "for i in LYRIC:\n",
    "    LYRIC2.append(i.replace(\"\\n\",\" \"))"
   ]
  },
  {
   "cell_type": "code",
   "execution_count": null,
   "metadata": {},
   "outputs": [],
   "source": [
    "len(LYRIC2)"
   ]
  },
  {
   "cell_type": "code",
   "execution_count": null,
   "metadata": {},
   "outputs": [],
   "source": [
    "GENRE=[]\n",
    "\n",
    "for i in number:\n",
    "    driver.get(\"https://www.melon.com/song/detail.htm?songId=\" + i)\n",
    "    try:\n",
    "        if driver.find_element_by_xpath('//*[@id=\"downloadfrm\"]/div/div/div[2]/div[2]/dl/dd[3]').text:\n",
    "            genre=driver.find_element_by_xpath('//*[@id=\"downloadfrm\"]/div/div/div[2]/div[2]/dl/dd[3]').text\n",
    "            GENRE.append(genre)\n",
    "    except:\n",
    "        GENRE.append(\"\")"
   ]
  },
  {
   "cell_type": "code",
   "execution_count": null,
   "metadata": {},
   "outputs": [],
   "source": [
    "top100_2000 = pd.DataFrame({\"Title\":title,\"Singer\":singer, \"Genre\": GENRE, \"Lyric\" : LYRIC2})"
   ]
  },
  {
   "cell_type": "code",
   "execution_count": null,
   "metadata": {},
   "outputs": [],
   "source": [
    "top100_2000"
   ]
  },
  {
   "cell_type": "code",
   "execution_count": null,
   "metadata": {},
   "outputs": [],
   "source": [
    "top100_2000.to_csv(\"./data/top100_2000.csv\", encoding=\"utf-8\", index=False)"
   ]
  },
  {
   "cell_type": "markdown",
   "metadata": {},
   "source": [
    "# 타입"
   ]
  },
  {
   "cell_type": "markdown",
   "metadata": {},
   "source": [
    "## 발라드"
   ]
  },
  {
   "cell_type": "code",
   "execution_count": null,
   "metadata": {
    "scrolled": true
   },
   "outputs": [],
   "source": [
    "driver.get(\"https://www.melon.com/genre/song_list.htm?gnrCode=GN0100&steadyYn=Y\")"
   ]
  },
  {
   "cell_type": "code",
   "execution_count": null,
   "metadata": {},
   "outputs": [],
   "source": [
    "title=driver.find_elements_by_class_name('ellipsis.rank01')\n",
    "\n",
    "title2=[]\n",
    "for i in title:\n",
    "    title2.append(i.text)\n",
    "\n",
    "del title2[50:]"
   ]
  },
  {
   "cell_type": "code",
   "execution_count": null,
   "metadata": {},
   "outputs": [],
   "source": [
    "singer=driver.find_elements_by_class_name('ellipsis.rank02')\n",
    "\n",
    "singer2=[]\n",
    "for i in singer:\n",
    "    singer2.append(i.text)"
   ]
  },
  {
   "cell_type": "code",
   "execution_count": null,
   "metadata": {},
   "outputs": [],
   "source": [
    "headers = {'User-Agent': 'Mozilla/5.0 (Windows NT 10.0; Win64; x64) AppleWebKit/537.36 (KHTML, like Gecko) Chrome/89.0.4389.90 Safari/537.36'}\n",
    "\n",
    "url = \"https://www.melon.com/genre/song_list.htm?gnrCode=GN0100&steadyYn=Y\"\n",
    "res = requests.get(url, headers=headers).text\n",
    "soup = BeautifulSoup(res)"
   ]
  },
  {
   "cell_type": "code",
   "execution_count": null,
   "metadata": {},
   "outputs": [],
   "source": [
    "songs = soup.select('div.ellipsis.rank01')\n",
    "singers = soup.select('div.ellipsis.rank02 > span.checkEllipsis')\n",
    "song_ids = [re.findall('\\,(\\d+)\\)', str(song))[0] for song in songs]"
   ]
  },
  {
   "cell_type": "code",
   "execution_count": null,
   "metadata": {
    "scrolled": true
   },
   "outputs": [],
   "source": [
    "list_song = [song.text.strip('\\n') for song in songs]\n",
    "list_singer = [singer.text for singer in singers]\n",
    "data = pd.DataFrame(data=zip(range(1,101),list_song, list_singer, song_ids), columns=['Rank', 'Title', 'Singer','Song_Ids'])"
   ]
  },
  {
   "cell_type": "code",
   "execution_count": null,
   "metadata": {},
   "outputs": [],
   "source": [
    "number = list(data['Song_Ids'])"
   ]
  },
  {
   "cell_type": "code",
   "execution_count": null,
   "metadata": {},
   "outputs": [],
   "source": [
    "LYRIC=[]\n",
    "\n",
    "for i in number:\n",
    "    driver.get(\"https://www.melon.com/song/detail.htm?songId=\" + i)\n",
    "    lyric=driver.find_element_by_class_name(\"lyric\")\n",
    "    LYRIC.append(lyric.text)"
   ]
  },
  {
   "cell_type": "code",
   "execution_count": null,
   "metadata": {},
   "outputs": [],
   "source": [
    "LYRIC2=[]\n",
    "for i in LYRIC:\n",
    "    LYRIC2.append(i.replace(\"\\n\",\" \"))"
   ]
  },
  {
   "cell_type": "code",
   "execution_count": null,
   "metadata": {},
   "outputs": [],
   "source": [
    "data['Lyric'] = LYRIC2"
   ]
  },
  {
   "cell_type": "code",
   "execution_count": null,
   "metadata": {},
   "outputs": [],
   "source": [
    "ballad_top50 = data[['Title','Singer','Lyric']]"
   ]
  },
  {
   "cell_type": "code",
   "execution_count": null,
   "metadata": {},
   "outputs": [],
   "source": [
    "ballad_top50_2"
   ]
  },
  {
   "cell_type": "markdown",
   "metadata": {},
   "source": [
    "51-100위"
   ]
  },
  {
   "cell_type": "code",
   "execution_count": null,
   "metadata": {},
   "outputs": [],
   "source": [
    "driver.get(\"https://www.melon.com/genre/song_list.htm?gnrCode=GN0100&steadyYn=Y#params%5BgnrCode%5D=GN0100&params%5BdtlGnrCode%5D=&params%5BorderBy%5D=NEW&params%5BsteadyYn%5D=Y&po=pageObj&startIndex=51\")"
   ]
  },
  {
   "cell_type": "code",
   "execution_count": null,
   "metadata": {},
   "outputs": [],
   "source": [
    "#driver.get(\"https://www.melon.com/genre/song_list.htm?gnrCode=GN0100&steadyYn=Y#params%5BgnrCode%5D=GN0100&params%5BdtlGnrCode%5D=&params%5BorderBy%5D=NEW&params%5BsteadyYn%5D=Y&po=pageObj&startIndex=51\")\n",
    "\n",
    "title=driver.find_elements_by_class_name('ellipsis.rank01')\n",
    "\n",
    "title2=[]\n",
    "for i in title:\n",
    "    title2.append(i.text)\n",
    "\n",
    "del title2[50:]"
   ]
  },
  {
   "cell_type": "code",
   "execution_count": null,
   "metadata": {},
   "outputs": [],
   "source": [
    "singer=driver.find_elements_by_class_name('ellipsis.rank02')\n",
    "\n",
    "singer2=[]\n",
    "for i in singer:\n",
    "    singer2.append(i.text)"
   ]
  },
  {
   "cell_type": "code",
   "execution_count": null,
   "metadata": {
    "scrolled": true
   },
   "outputs": [],
   "source": [
    "data['Title'] = title2"
   ]
  },
  {
   "cell_type": "code",
   "execution_count": null,
   "metadata": {
    "scrolled": true
   },
   "outputs": [],
   "source": [
    "data['Singer'] = singer2"
   ]
  },
  {
   "cell_type": "code",
   "execution_count": null,
   "metadata": {},
   "outputs": [],
   "source": [
    "songTagList = driver.find_elements_by_css_selector('tr > td:nth-child(1) > div > input')\n",
    "\n",
    "number = []\n",
    "for i in songTagList:\n",
    "    number.append(i. get_attribute('value'))"
   ]
  },
  {
   "cell_type": "code",
   "execution_count": null,
   "metadata": {
    "scrolled": true
   },
   "outputs": [],
   "source": [
    "number"
   ]
  },
  {
   "cell_type": "code",
   "execution_count": null,
   "metadata": {},
   "outputs": [],
   "source": [
    "LYRIC=[]\n",
    "\n",
    "for i in number:\n",
    "    driver.get(\"https://www.melon.com/song/detail.htm?songId=\" + i)\n",
    "    try:\n",
    "        if driver.find_element_by_class_name(\"lyric\"):\n",
    "            lyric=driver.find_element_by_class_name(\"lyric\")\n",
    "            LYRIC.append(lyric.text)\n",
    "    except:\n",
    "        LYRIC.append(\"\")\n",
    "        \n",
    "LYRIC2=[]\n",
    "for i in LYRIC:\n",
    "    LYRIC2.append(i.replace(\"\\n\",\" \"))\n",
    "    \n",
    "data['Lyric'] = LYRIC2\n",
    "\n",
    "ballad_top51_100 = data[['Title','Singer','Lyric']]"
   ]
  },
  {
   "cell_type": "code",
   "execution_count": null,
   "metadata": {
    "scrolled": true
   },
   "outputs": [],
   "source": [
    "ballad_top51_100"
   ]
  },
  {
   "cell_type": "markdown",
   "metadata": {},
   "source": [
    "101-150위"
   ]
  },
  {
   "cell_type": "code",
   "execution_count": null,
   "metadata": {},
   "outputs": [],
   "source": [
    "driver.get(\"https://www.melon.com/genre/song_list.htm?gnrCode=GN0100&steadyYn=Y#params%5BgnrCode%5D=GN0100&params%5BdtlGnrCode%5D=&params%5BorderBy%5D=NEW&params%5BsteadyYn%5D=Y&po=pageObj&startIndex=101\")"
   ]
  },
  {
   "cell_type": "code",
   "execution_count": null,
   "metadata": {},
   "outputs": [],
   "source": [
    "title=driver.find_elements_by_class_name('ellipsis.rank01')\n",
    "title2=[]\n",
    "for i in title:\n",
    "    title2.append(i.text)\n",
    "del title2[50:]\n",
    "\n",
    "singer=driver.find_elements_by_class_name('ellipsis.rank02')\n",
    "singer2=[]\n",
    "for i in singer:\n",
    "    singer2.append(i.text)\n",
    "del title2[50:]\n",
    "\n",
    "data['Title'] = title2\n",
    "data['Singer'] = singer2\n",
    "\n",
    "songTagList = driver.find_elements_by_css_selector('tr > td:nth-child(1) > div > input')\n",
    "\n",
    "number = []\n",
    "for i in songTagList:\n",
    "    number.append(i. get_attribute('value'))\n",
    "\n",
    "LYRIC=[]\n",
    "\n",
    "for i in number:\n",
    "    driver.get(\"https://www.melon.com/song/detail.htm?songId=\" + i)\n",
    "    try:\n",
    "        if driver.find_element_by_class_name(\"lyric\"):\n",
    "            lyric=driver.find_element_by_class_name(\"lyric\")\n",
    "            LYRIC.append(lyric.text)\n",
    "    except:\n",
    "        LYRIC.append(\"\")\n",
    "        \n",
    "LYRIC2=[]\n",
    "for i in LYRIC:\n",
    "    LYRIC2.append(i.replace(\"\\n\",\" \"))\n",
    "    \n",
    "data['Lyric'] = LYRIC2\n",
    "\n",
    "ballad_top101_150 = data[['Title','Singer','Lyric']]"
   ]
  },
  {
   "cell_type": "code",
   "execution_count": null,
   "metadata": {},
   "outputs": [],
   "source": [
    "ballad_top101_150"
   ]
  },
  {
   "cell_type": "markdown",
   "metadata": {},
   "source": [
    "151-200위"
   ]
  },
  {
   "cell_type": "code",
   "execution_count": null,
   "metadata": {},
   "outputs": [],
   "source": [
    "driver.get(\"https://www.melon.com/genre/song_list.htm?gnrCode=GN0100&steadyYn=Y#params%5BgnrCode%5D=GN0100&params%5BdtlGnrCode%5D=&params%5BorderBy%5D=NEW&params%5BsteadyYn%5D=Y&po=pageObj&startIndex=151\")"
   ]
  },
  {
   "cell_type": "code",
   "execution_count": null,
   "metadata": {},
   "outputs": [],
   "source": [
    "title=driver.find_elements_by_class_name('ellipsis.rank01')\n",
    "title2=[]\n",
    "for i in title:\n",
    "    title2.append(i.text)\n",
    "del title2[50:]\n",
    "\n",
    "singer=driver.find_elements_by_class_name('ellipsis.rank02')\n",
    "singer2=[]\n",
    "for i in singer:\n",
    "    singer2.append(i.text)\n",
    "del title2[50:]\n",
    "\n",
    "data['Title'] = title2\n",
    "data['Singer'] = singer2\n",
    "\n",
    "songTagList = driver.find_elements_by_css_selector('tr > td:nth-child(1) > div > input')\n",
    "\n",
    "number = []\n",
    "for i in songTagList:\n",
    "    number.append(i. get_attribute('value'))\n",
    "\n",
    "LYRIC=[]\n",
    "\n",
    "for i in number:\n",
    "    driver.get(\"https://www.melon.com/song/detail.htm?songId=\" + i)\n",
    "    try:\n",
    "        if driver.find_element_by_class_name(\"lyric\"):\n",
    "            lyric=driver.find_element_by_class_name(\"lyric\")\n",
    "            LYRIC.append(lyric.text)\n",
    "    except:\n",
    "        LYRIC.append(\"\")\n",
    "        \n",
    "LYRIC2=[]\n",
    "for i in LYRIC:\n",
    "    LYRIC2.append(i.replace(\"\\n\",\" \"))\n",
    "    \n",
    "data['Lyric'] = LYRIC2\n",
    "\n",
    "ballad_top151_200 = data[['Title','Singer','Lyric']]"
   ]
  },
  {
   "cell_type": "markdown",
   "metadata": {},
   "source": [
    "201-250위"
   ]
  },
  {
   "cell_type": "code",
   "execution_count": null,
   "metadata": {},
   "outputs": [],
   "source": [
    "driver.get(\"https://www.melon.com/genre/song_list.htm?gnrCode=GN0100&steadyYn=Y#params%5BgnrCode%5D=GN0100&params%5BdtlGnrCode%5D=&params%5BorderBy%5D=NEW&params%5BsteadyYn%5D=Y&po=pageObj&startIndex=201\")"
   ]
  },
  {
   "cell_type": "code",
   "execution_count": null,
   "metadata": {},
   "outputs": [],
   "source": [
    "title=driver.find_elements_by_class_name('ellipsis.rank01')\n",
    "title2=[]\n",
    "for i in title:\n",
    "    title2.append(i.text)\n",
    "del title2[50:]\n",
    "\n",
    "singer=driver.find_elements_by_class_name('ellipsis.rank02')\n",
    "singer2=[]\n",
    "for i in singer:\n",
    "    singer2.append(i.text)\n",
    "del title2[50:]\n",
    "\n",
    "data['Title'] = title2\n",
    "data['Singer'] = singer2\n",
    "\n",
    "songTagList = driver.find_elements_by_css_selector('tr > td:nth-child(1) > div > input')\n",
    "\n",
    "number = []\n",
    "for i in songTagList:\n",
    "    number.append(i. get_attribute('value'))\n",
    "\n",
    "LYRIC=[]\n",
    "\n",
    "for i in number:\n",
    "    driver.get(\"https://www.melon.com/song/detail.htm?songId=\" + i)\n",
    "    try:\n",
    "        if driver.find_element_by_class_name(\"lyric\"):\n",
    "            lyric=driver.find_element_by_class_name(\"lyric\")\n",
    "            LYRIC.append(lyric.text)\n",
    "    except:\n",
    "        LYRIC.append(\"\")\n",
    "        \n",
    "LYRIC2=[]\n",
    "for i in LYRIC:\n",
    "    LYRIC2.append(i.replace(\"\\n\",\" \"))\n",
    "    \n",
    "data['Lyric'] = LYRIC2\n",
    "\n",
    "ballad_top201_250 = data[['Title','Singer','Lyric']]"
   ]
  },
  {
   "cell_type": "code",
   "execution_count": null,
   "metadata": {},
   "outputs": [],
   "source": [
    "ballad_top201_250"
   ]
  },
  {
   "cell_type": "markdown",
   "metadata": {},
   "source": [
    "251-300위"
   ]
  },
  {
   "cell_type": "code",
   "execution_count": null,
   "metadata": {},
   "outputs": [],
   "source": [
    "driver.get(\"https://www.melon.com/genre/song_list.htm?gnrCode=GN0100&steadyYn=Y#params%5BgnrCode%5D=GN0100&params%5BdtlGnrCode%5D=&params%5BorderBy%5D=NEW&params%5BsteadyYn%5D=Y&po=pageObj&startIndex=251\")"
   ]
  },
  {
   "cell_type": "code",
   "execution_count": null,
   "metadata": {},
   "outputs": [],
   "source": [
    "title=driver.find_elements_by_class_name('ellipsis.rank01')\n",
    "title2=[]\n",
    "for i in title:\n",
    "    title2.append(i.text)\n",
    "del title2[50:]\n",
    "\n",
    "singer=driver.find_elements_by_class_name('ellipsis.rank02')\n",
    "singer2=[]\n",
    "for i in singer:\n",
    "    singer2.append(i.text)\n",
    "del title2[50:]\n",
    "\n",
    "data['Title'] = title2\n",
    "data['Singer'] = singer2\n",
    "\n",
    "songTagList = driver.find_elements_by_css_selector('tr > td:nth-child(1) > div > input')\n",
    "\n",
    "number = []\n",
    "for i in songTagList:\n",
    "    number.append(i. get_attribute('value'))\n",
    "\n",
    "LYRIC=[]\n",
    "\n",
    "for i in number:\n",
    "    driver.get(\"https://www.melon.com/song/detail.htm?songId=\" + i)\n",
    "    try:\n",
    "        if driver.find_element_by_class_name(\"lyric\"):\n",
    "            lyric=driver.find_element_by_class_name(\"lyric\")\n",
    "            LYRIC.append(lyric.text)\n",
    "    except:\n",
    "        LYRIC.append(\"\")\n",
    "        \n",
    "LYRIC2=[]\n",
    "for i in LYRIC:\n",
    "    LYRIC2.append(i.replace(\"\\n\",\" \"))\n",
    "    \n",
    "data['Lyric'] = LYRIC2\n",
    "\n",
    "ballad_top251_300 = data[['Title','Singer','Lyric']]"
   ]
  },
  {
   "cell_type": "code",
   "execution_count": null,
   "metadata": {},
   "outputs": [],
   "source": [
    "ballad = pd.concat([ballad_top50,ballad_top51_100,ballad_top101_150,ballad_top151_200,ballad_top201_250, ballad_top251_300])"
   ]
  },
  {
   "cell_type": "code",
   "execution_count": null,
   "metadata": {},
   "outputs": [],
   "source": [
    "ballad"
   ]
  },
  {
   "cell_type": "code",
   "execution_count": null,
   "metadata": {},
   "outputs": [],
   "source": [
    "ballad.to_csv(\"./data/ballad.csv\", encoding=\"utf-8\", index=False)"
   ]
  },
  {
   "cell_type": "markdown",
   "metadata": {},
   "source": [
    "## 댄스"
   ]
  },
  {
   "cell_type": "code",
   "execution_count": null,
   "metadata": {},
   "outputs": [],
   "source": [
    "driver.get(\"https://www.melon.com/genre/song_list.htm?gnrCode=GN0200&steadyYn=Y\")"
   ]
  },
  {
   "cell_type": "code",
   "execution_count": null,
   "metadata": {},
   "outputs": [],
   "source": [
    "title=driver.find_elements_by_class_name('ellipsis.rank01')\n",
    "\n",
    "title2=[]\n",
    "for i in title:\n",
    "    title2.append(i.text)\n",
    "\n",
    "del title2[50:]"
   ]
  },
  {
   "cell_type": "code",
   "execution_count": null,
   "metadata": {},
   "outputs": [],
   "source": [
    "singer=driver.find_elements_by_class_name('ellipsis.rank02')\n",
    "\n",
    "singer2=[]\n",
    "for i in singer:\n",
    "    singer2.append(i.text)"
   ]
  },
  {
   "cell_type": "code",
   "execution_count": null,
   "metadata": {
    "scrolled": true
   },
   "outputs": [],
   "source": [
    "headers = {'User-Agent': 'Mozilla/5.0 (Windows NT 10.0; Win64; x64) AppleWebKit/537.36 (KHTML, like Gecko) Chrome/89.0.4389.90 Safari/537.36'}\n",
    " \n",
    "url = \"https://www.melon.com/genre/song_list.htm?gnrCode=GN0200&steadyYn=Y\"\n",
    "res = requests.get(url, headers=headers).text\n",
    "soup = BeautifulSoup(res)"
   ]
  },
  {
   "cell_type": "code",
   "execution_count": null,
   "metadata": {},
   "outputs": [],
   "source": [
    "songs = soup.select('div.ellipsis.rank01')\n",
    "singers = soup.select('div.ellipsis.rank02 > span.checkEllipsis')\n",
    "song_ids = [re.findall('\\,(\\d+)\\)', str(song))[0] for song in songs]"
   ]
  },
  {
   "cell_type": "code",
   "execution_count": null,
   "metadata": {},
   "outputs": [],
   "source": [
    "list_song = [song.text.strip('\\n') for song in songs]\n",
    "list_singer = [singer.text for singer in singers]\n",
    "data = pd.DataFrame(data=zip(range(1,101),list_song, list_singer, song_ids), columns=['Rank', 'Title', 'Singer','Song_Ids'])"
   ]
  },
  {
   "cell_type": "code",
   "execution_count": null,
   "metadata": {},
   "outputs": [],
   "source": [
    "number = list(data['Song_Ids'])"
   ]
  },
  {
   "cell_type": "code",
   "execution_count": null,
   "metadata": {},
   "outputs": [],
   "source": [
    "LYRIC=[]\n",
    "\n",
    "for i in number:\n",
    "    driver.get(\"https://www.melon.com/song/detail.htm?songId=\" + i)\n",
    "    lyric=driver.find_element_by_class_name(\"lyric\")\n",
    "    LYRIC.append(lyric.text)\n",
    "    \n",
    "LYRIC2=[]\n",
    "for i in LYRIC:\n",
    "    LYRIC2.append(i.replace(\"\\n\",\" \"))"
   ]
  },
  {
   "cell_type": "code",
   "execution_count": null,
   "metadata": {},
   "outputs": [],
   "source": [
    "data['Lyric'] = LYRIC2"
   ]
  },
  {
   "cell_type": "code",
   "execution_count": null,
   "metadata": {
    "scrolled": true
   },
   "outputs": [],
   "source": [
    "dance_top50 = data[['Title','Singer','Lyric']]"
   ]
  },
  {
   "cell_type": "code",
   "execution_count": null,
   "metadata": {},
   "outputs": [],
   "source": [
    "dance_top50.to_csv(\"./data/dance_top50.csv\", encoding=\"utf-8\", index=False)"
   ]
  },
  {
   "cell_type": "code",
   "execution_count": null,
   "metadata": {},
   "outputs": [],
   "source": [
    "dance_top50 = pd.read_csv(\"./data/dance_top50.csv\")"
   ]
  },
  {
   "cell_type": "code",
   "execution_count": null,
   "metadata": {},
   "outputs": [],
   "source": [
    "driver.get(\"https://www.melon.com/genre/song_list.htm?gnrCode=GN0200&steadyYn=Y#params%5BgnrCode%5D=GN0200&params%5BdtlGnrCode%5D=&params%5BorderBy%5D=NEW&params%5BsteadyYn%5D=Y&po=pageObj&startIndex=51\")\n",
    "\n",
    "title=driver.find_elements_by_class_name('ellipsis.rank01')\n",
    "title2=[]\n",
    "for i in title:\n",
    "    title2.append(i.text)\n",
    "del title2[50:]\n",
    "\n",
    "singer=driver.find_elements_by_class_name('ellipsis.rank02')\n",
    "singer2=[]\n",
    "for i in singer:\n",
    "    singer2.append(i.text)\n",
    "del title2[50:]\n",
    "\n",
    "data['Title'] = title2\n",
    "data['Singer'] = singer2\n",
    "\n",
    "songTagList = driver.find_elements_by_css_selector('tr > td:nth-child(1) > div > input')\n",
    "\n",
    "number = []\n",
    "for i in songTagList:\n",
    "    number.append(i. get_attribute('value'))\n",
    "\n",
    "LYRIC=[]\n",
    "\n",
    "for i in number:\n",
    "    driver.get(\"https://www.melon.com/song/detail.htm?songId=\" + i)\n",
    "    try:\n",
    "        if driver.find_element_by_class_name(\"lyric\"):\n",
    "            lyric=driver.find_element_by_class_name(\"lyric\")\n",
    "            LYRIC.append(lyric.text)\n",
    "    except:\n",
    "        LYRIC.append(\"\")\n",
    "        \n",
    "LYRIC2=[]\n",
    "for i in LYRIC:\n",
    "    LYRIC2.append(i.replace(\"\\n\",\" \"))\n",
    "    \n",
    "data['Lyric'] = LYRIC2\n",
    "\n",
    "dance_top51_100 = data[['Title','Singer','Lyric']]\n",
    "\n",
    "driver.get(\"https://www.melon.com/genre/song_list.htm?gnrCode=GN0200&steadyYn=Y#params%5BgnrCode%5D=GN0200&params%5BdtlGnrCode%5D=&params%5BorderBy%5D=NEW&params%5BsteadyYn%5D=Y&po=pageObj&startIndex=101\")\n",
    "\n",
    "title=driver.find_elements_by_class_name('ellipsis.rank01')\n",
    "title2=[]\n",
    "for i in title:\n",
    "    title2.append(i.text)\n",
    "del title2[50:]\n",
    "\n",
    "singer=driver.find_elements_by_class_name('ellipsis.rank02')\n",
    "singer2=[]\n",
    "for i in singer:\n",
    "    singer2.append(i.text)\n",
    "del title2[50:]\n",
    "\n",
    "data['Title'] = title2\n",
    "data['Singer'] = singer2\n",
    "\n",
    "songTagList = driver.find_elements_by_css_selector('tr > td:nth-child(1) > div > input')\n",
    "\n",
    "number = []\n",
    "for i in songTagList:\n",
    "    number.append(i. get_attribute('value'))\n",
    "\n",
    "LYRIC=[]\n",
    "\n",
    "for i in number:\n",
    "    driver.get(\"https://www.melon.com/song/detail.htm?songId=\" + i)\n",
    "    try:\n",
    "        if driver.find_element_by_class_name(\"lyric\"):\n",
    "            lyric=driver.find_element_by_class_name(\"lyric\")\n",
    "            LYRIC.append(lyric.text)\n",
    "    except:\n",
    "        LYRIC.append(\"\")\n",
    "        \n",
    "LYRIC2=[]\n",
    "for i in LYRIC:\n",
    "    LYRIC2.append(i.replace(\"\\n\",\" \"))\n",
    "    \n",
    "data['Lyric'] = LYRIC2\n",
    "\n",
    "dance_top101_150 = data[['Title','Singer','Lyric']]\n",
    "\n",
    "driver.get(\"https://www.melon.com/genre/song_list.htm?gnrCode=GN0200&steadyYn=Y#params%5BgnrCode%5D=GN0200&params%5BdtlGnrCode%5D=&params%5BorderBy%5D=NEW&params%5BsteadyYn%5D=Y&po=pageObj&startIndex=151\")\n",
    "\n",
    "title=driver.find_elements_by_class_name('ellipsis.rank01')\n",
    "title2=[]\n",
    "for i in title:\n",
    "    title2.append(i.text)\n",
    "del title2[50:]\n",
    "\n",
    "singer=driver.find_elements_by_class_name('ellipsis.rank02')\n",
    "singer2=[]\n",
    "for i in singer:\n",
    "    singer2.append(i.text)\n",
    "del title2[50:]\n",
    "\n",
    "data['Title'] = title2\n",
    "data['Singer'] = singer2\n",
    "\n",
    "songTagList = driver.find_elements_by_css_selector('tr > td:nth-child(1) > div > input')\n",
    "\n",
    "number = []\n",
    "for i in songTagList:\n",
    "    number.append(i. get_attribute('value'))\n",
    "\n",
    "LYRIC=[]\n",
    "\n",
    "for i in number:\n",
    "    driver.get(\"https://www.melon.com/song/detail.htm?songId=\" + i)\n",
    "    try:\n",
    "        if driver.find_element_by_class_name(\"lyric\"):\n",
    "            lyric=driver.find_element_by_class_name(\"lyric\")\n",
    "            LYRIC.append(lyric.text)\n",
    "    except:\n",
    "        LYRIC.append(\"\")\n",
    "        \n",
    "LYRIC2=[]\n",
    "for i in LYRIC:\n",
    "    LYRIC2.append(i.replace(\"\\n\",\" \"))\n",
    "    \n",
    "data['Lyric'] = LYRIC2\n",
    "\n",
    "dance_top151_200 = data[['Title','Singer','Lyric']]\n",
    "\n",
    "\n",
    "driver.get(\"https://www.melon.com/genre/song_list.htm?gnrCode=GN0200&steadyYn=Y#params%5BgnrCode%5D=GN0200&params%5BdtlGnrCode%5D=&params%5BorderBy%5D=NEW&params%5BsteadyYn%5D=Y&po=pageObj&startIndex=201\")\n",
    "\n",
    "title=driver.find_elements_by_class_name('ellipsis.rank01')\n",
    "title2=[]\n",
    "for i in title:\n",
    "    title2.append(i.text)\n",
    "del title2[50:]\n",
    "\n",
    "singer=driver.find_elements_by_class_name('ellipsis.rank02')\n",
    "singer2=[]\n",
    "for i in singer:\n",
    "    singer2.append(i.text)\n",
    "del title2[50:]\n",
    "\n",
    "data['Title'] = title2\n",
    "data['Singer'] = singer2\n",
    "\n",
    "songTagList = driver.find_elements_by_css_selector('tr > td:nth-child(1) > div > input')\n",
    "\n",
    "number = []\n",
    "for i in songTagList:\n",
    "    number.append(i. get_attribute('value'))\n",
    "\n",
    "LYRIC=[]\n",
    "\n",
    "for i in number:\n",
    "    driver.get(\"https://www.melon.com/song/detail.htm?songId=\" + i)\n",
    "    try:\n",
    "        if driver.find_element_by_class_name(\"lyric\"):\n",
    "            lyric=driver.find_element_by_class_name(\"lyric\")\n",
    "            LYRIC.append(lyric.text)\n",
    "    except:\n",
    "        LYRIC.append(\"\")\n",
    "        \n",
    "LYRIC2=[]\n",
    "for i in LYRIC:\n",
    "    LYRIC2.append(i.replace(\"\\n\",\" \"))\n",
    "    \n",
    "data['Lyric'] = LYRIC2\n",
    "\n",
    "dance_top201_250 = data[['Title','Singer','Lyric']]\n",
    "\n",
    "\n",
    "driver.get(\"https://www.melon.com/genre/song_list.htm?gnrCode=GN0200&steadyYn=Y#params%5BgnrCode%5D=GN0200&params%5BdtlGnrCode%5D=&params%5BorderBy%5D=NEW&params%5BsteadyYn%5D=Y&po=pageObj&startIndex=251\")\n",
    "\n",
    "title=driver.find_elements_by_class_name('ellipsis.rank01')\n",
    "title2=[]\n",
    "for i in title:\n",
    "    title2.append(i.text)\n",
    "del title2[50:]\n",
    "\n",
    "singer=driver.find_elements_by_class_name('ellipsis.rank02')\n",
    "singer2=[]\n",
    "for i in singer:\n",
    "    singer2.append(i.text)\n",
    "del title2[50:]\n",
    "\n",
    "data['Title'] = title2\n",
    "data['Singer'] = singer2\n",
    "\n",
    "songTagList = driver.find_elements_by_css_selector('tr > td:nth-child(1) > div > input')\n",
    "\n",
    "number = []\n",
    "for i in songTagList:\n",
    "    number.append(i. get_attribute('value'))\n",
    "\n",
    "LYRIC=[]\n",
    "\n",
    "for i in number:\n",
    "    driver.get(\"https://www.melon.com/song/detail.htm?songId=\" + i)\n",
    "    try:\n",
    "        if driver.find_element_by_class_name(\"lyric\"):\n",
    "            lyric=driver.find_element_by_class_name(\"lyric\")\n",
    "            LYRIC.append(lyric.text)\n",
    "    except:\n",
    "        LYRIC.append(\"\")\n",
    "        \n",
    "LYRIC2=[]\n",
    "for i in LYRIC:\n",
    "    LYRIC2.append(i.replace(\"\\n\",\" \"))\n",
    "    \n",
    "data['Lyric'] = LYRIC2\n",
    "\n",
    "dance_top251_300 = data[['Title','Singer','Lyric']]"
   ]
  },
  {
   "cell_type": "code",
   "execution_count": null,
   "metadata": {},
   "outputs": [],
   "source": [
    "dance = pd.concat([dance_top50, dance_top51_100, dance_top101_150, dance_top151_200, dance_top201_250, dance_top251_300])\n",
    "dance"
   ]
  },
  {
   "cell_type": "code",
   "execution_count": null,
   "metadata": {},
   "outputs": [],
   "source": [
    "dance.to_csv(\"./data/dance.csv\", encoding=\"utf-8\", index=False)"
   ]
  },
  {
   "cell_type": "markdown",
   "metadata": {},
   "source": [
    "## 랩/힙합"
   ]
  },
  {
   "cell_type": "code",
   "execution_count": null,
   "metadata": {},
   "outputs": [],
   "source": [
    "driver.get(\"https://www.melon.com/genre/song_list.htm?gnrCode=GN0300&steadyYn=Y\")\n",
    "\n",
    "title=driver.find_elements_by_class_name('ellipsis.rank01')\n",
    "title2=[]\n",
    "for i in title:\n",
    "    title2.append(i.text)\n",
    "del title2[50:]\n",
    "\n",
    "singer=driver.find_elements_by_class_name('ellipsis.rank02')\n",
    "singer2=[]\n",
    "for i in singer:\n",
    "    singer2.append(i.text)\n",
    "del title2[50:]\n",
    "\n",
    "data['Title'] = title2\n",
    "data['Singer'] = singer2\n",
    "\n",
    "songTagList = driver.find_elements_by_css_selector('tr > td:nth-child(1) > div > input')\n",
    "\n",
    "number = []\n",
    "for i in songTagList:\n",
    "    number.append(i. get_attribute('value'))\n",
    "\n",
    "LYRIC=[]\n",
    "\n",
    "for i in number:\n",
    "    driver.get(\"https://www.melon.com/song/detail.htm?songId=\" + i)\n",
    "    try:\n",
    "        if driver.find_element_by_class_name(\"lyric\"):\n",
    "            lyric=driver.find_element_by_class_name(\"lyric\")\n",
    "            LYRIC.append(lyric.text)\n",
    "    except:\n",
    "        LYRIC.append(\"\")\n",
    "        \n",
    "LYRIC2=[]\n",
    "for i in LYRIC:\n",
    "    LYRIC2.append(i.replace(\"\\n\",\" \"))\n",
    "    \n",
    "data['Lyric'] = LYRIC2\n",
    "\n",
    "raphip_top1_50 = data[['Title','Singer','Lyric']]\n",
    "raphip_top1_50\n",
    "\n",
    "driver.get(\"https://www.melon.com/genre/song_list.htm?gnrCode=GN0300&steadyYn=Y#params%5BgnrCode%5D=GN0300&params%5BdtlGnrCode%5D=&params%5BorderBy%5D=NEW&params%5BsteadyYn%5D=Y&po=pageObj&startIndex=51\")\n",
    "\n",
    "title=driver.find_elements_by_class_name('ellipsis.rank01')\n",
    "title2=[]\n",
    "for i in title:\n",
    "    title2.append(i.text)\n",
    "del title2[50:]\n",
    "\n",
    "singer=driver.find_elements_by_class_name('ellipsis.rank02')\n",
    "singer2=[]\n",
    "for i in singer:\n",
    "    singer2.append(i.text)\n",
    "del title2[50:]\n",
    "\n",
    "data['Title'] = title2\n",
    "data['Singer'] = singer2\n",
    "\n",
    "songTagList = driver.find_elements_by_css_selector('tr > td:nth-child(1) > div > input')\n",
    "\n",
    "number = []\n",
    "for i in songTagList:\n",
    "    number.append(i. get_attribute('value'))\n",
    "\n",
    "LYRIC=[]\n",
    "\n",
    "for i in number:\n",
    "    driver.get(\"https://www.melon.com/song/detail.htm?songId=\" + i)\n",
    "    try:\n",
    "        if driver.find_element_by_class_name(\"lyric\"):\n",
    "            lyric=driver.find_element_by_class_name(\"lyric\")\n",
    "            LYRIC.append(lyric.text)\n",
    "    except:\n",
    "        LYRIC.append(\"\")\n",
    "        \n",
    "LYRIC2=[]\n",
    "for i in LYRIC:\n",
    "    LYRIC2.append(i.replace(\"\\n\",\" \"))\n",
    "    \n",
    "data['Lyric'] = LYRIC2\n",
    "\n",
    "raphip_top51_100 = data[['Title','Singer','Lyric']]\n",
    "\n",
    "driver.get(\"https://www.melon.com/genre/song_list.htm?gnrCode=GN0300&steadyYn=Y#params%5BgnrCode%5D=GN0300&params%5BdtlGnrCode%5D=&params%5BorderBy%5D=NEW&params%5BsteadyYn%5D=Y&po=pageObj&startIndex=101\")\n",
    "\n",
    "title=driver.find_elements_by_class_name('ellipsis.rank01')\n",
    "title2=[]\n",
    "for i in title:\n",
    "    title2.append(i.text)\n",
    "del title2[50:]\n",
    "\n",
    "singer=driver.find_elements_by_class_name('ellipsis.rank02')\n",
    "singer2=[]\n",
    "for i in singer:\n",
    "    singer2.append(i.text)\n",
    "del title2[50:]\n",
    "\n",
    "data['Title'] = title2\n",
    "data['Singer'] = singer2\n",
    "\n",
    "songTagList = driver.find_elements_by_css_selector('tr > td:nth-child(1) > div > input')\n",
    "\n",
    "number = []\n",
    "for i in songTagList:\n",
    "    number.append(i. get_attribute('value'))\n",
    "\n",
    "LYRIC=[]\n",
    "\n",
    "for i in number:\n",
    "    driver.get(\"https://www.melon.com/song/detail.htm?songId=\" + i)\n",
    "    try:\n",
    "        if driver.find_element_by_class_name(\"lyric\"):\n",
    "            lyric=driver.find_element_by_class_name(\"lyric\")\n",
    "            LYRIC.append(lyric.text)\n",
    "    except:\n",
    "        LYRIC.append(\"\")\n",
    "        \n",
    "LYRIC2=[]\n",
    "for i in LYRIC:\n",
    "    LYRIC2.append(i.replace(\"\\n\",\" \"))\n",
    "    \n",
    "data['Lyric'] = LYRIC2\n",
    "\n",
    "raphip_top101_150 = data[['Title','Singer','Lyric']]\n",
    "\n",
    "driver.get(\"https://www.melon.com/genre/song_list.htm?gnrCode=GN0300&steadyYn=Y#params%5BgnrCode%5D=GN0300&params%5BdtlGnrCode%5D=&params%5BorderBy%5D=NEW&params%5BsteadyYn%5D=Y&po=pageObj&startIndex=151\")\n",
    "\n",
    "title=driver.find_elements_by_class_name('ellipsis.rank01')\n",
    "title2=[]\n",
    "for i in title:\n",
    "    title2.append(i.text)\n",
    "del title2[50:]\n",
    "\n",
    "singer=driver.find_elements_by_class_name('ellipsis.rank02')\n",
    "singer2=[]\n",
    "for i in singer:\n",
    "    singer2.append(i.text)\n",
    "del title2[50:]\n",
    "\n",
    "data['Title'] = title2\n",
    "data['Singer'] = singer2\n",
    "\n",
    "songTagList = driver.find_elements_by_css_selector('tr > td:nth-child(1) > div > input')\n",
    "\n",
    "number = []\n",
    "for i in songTagList:\n",
    "    number.append(i. get_attribute('value'))\n",
    "\n",
    "LYRIC=[]\n",
    "\n",
    "for i in number:\n",
    "    driver.get(\"https://www.melon.com/song/detail.htm?songId=\" + i)\n",
    "    try:\n",
    "        if driver.find_element_by_class_name(\"lyric\"):\n",
    "            lyric=driver.find_element_by_class_name(\"lyric\")\n",
    "            LYRIC.append(lyric.text)\n",
    "    except:\n",
    "        LYRIC.append(\"\")\n",
    "        \n",
    "LYRIC2=[]\n",
    "for i in LYRIC:\n",
    "    LYRIC2.append(i.replace(\"\\n\",\" \"))\n",
    "    \n",
    "data['Lyric'] = LYRIC2\n",
    "\n",
    "raphip_top151_200 = data[['Title','Singer','Lyric']]\n",
    "\n",
    "\n",
    "driver.get(\"https://www.melon.com/genre/song_list.htm?gnrCode=GN0300&steadyYn=Y#params%5BgnrCode%5D=GN0300&params%5BdtlGnrCode%5D=&params%5BorderBy%5D=NEW&params%5BsteadyYn%5D=Y&po=pageObj&startIndex=201\")\n",
    "\n",
    "title=driver.find_elements_by_class_name('ellipsis.rank01')\n",
    "title2=[]\n",
    "for i in title:\n",
    "    title2.append(i.text)\n",
    "del title2[50:]\n",
    "\n",
    "singer=driver.find_elements_by_class_name('ellipsis.rank02')\n",
    "singer2=[]\n",
    "for i in singer:\n",
    "    singer2.append(i.text)\n",
    "del title2[50:]\n",
    "\n",
    "data['Title'] = title2\n",
    "data['Singer'] = singer2\n",
    "\n",
    "songTagList = driver.find_elements_by_css_selector('tr > td:nth-child(1) > div > input')\n",
    "\n",
    "number = []\n",
    "for i in songTagList:\n",
    "    number.append(i. get_attribute('value'))\n",
    "\n",
    "LYRIC=[]\n",
    "\n",
    "for i in number:\n",
    "    driver.get(\"https://www.melon.com/song/detail.htm?songId=\" + i)\n",
    "    try:\n",
    "        if driver.find_element_by_class_name(\"lyric\"):\n",
    "            lyric=driver.find_element_by_class_name(\"lyric\")\n",
    "            LYRIC.append(lyric.text)\n",
    "    except:\n",
    "        LYRIC.append(\"\")\n",
    "        \n",
    "LYRIC2=[]\n",
    "for i in LYRIC:\n",
    "    LYRIC2.append(i.replace(\"\\n\",\" \"))\n",
    "    \n",
    "data['Lyric'] = LYRIC2\n",
    "\n",
    "raphip_top201_250 = data[['Title','Singer','Lyric']]\n",
    "\n",
    "\n",
    "driver.get(\"https://www.melon.com/genre/song_list.htm?gnrCode=GN0300&steadyYn=Y#params%5BgnrCode%5D=GN0300&params%5BdtlGnrCode%5D=&params%5BorderBy%5D=NEW&params%5BsteadyYn%5D=Y&po=pageObj&startIndex=251\")\n",
    "\n",
    "title=driver.find_elements_by_class_name('ellipsis.rank01')\n",
    "title2=[]\n",
    "for i in title:\n",
    "    title2.append(i.text)\n",
    "del title2[50:]\n",
    "\n",
    "singer=driver.find_elements_by_class_name('ellipsis.rank02')\n",
    "singer2=[]\n",
    "for i in singer:\n",
    "    singer2.append(i.text)\n",
    "del title2[50:]\n",
    "\n",
    "data['Title'] = title2\n",
    "data['Singer'] = singer2\n",
    "\n",
    "songTagList = driver.find_elements_by_css_selector('tr > td:nth-child(1) > div > input')\n",
    "\n",
    "number = []\n",
    "for i in songTagList:\n",
    "    number.append(i. get_attribute('value'))\n",
    "\n",
    "LYRIC=[]\n",
    "\n",
    "for i in number:\n",
    "    driver.get(\"https://www.melon.com/song/detail.htm?songId=\" + i)\n",
    "    try:\n",
    "        if driver.find_element_by_class_name(\"lyric\"):\n",
    "            lyric=driver.find_element_by_class_name(\"lyric\")\n",
    "            LYRIC.append(lyric.text)\n",
    "    except:\n",
    "        LYRIC.append(\"\")\n",
    "        \n",
    "LYRIC2=[]\n",
    "for i in LYRIC:\n",
    "    LYRIC2.append(i.replace(\"\\n\",\" \"))\n",
    "    \n",
    "data['Lyric'] = LYRIC2\n",
    "\n",
    "raphip_top251_300 = data[['Title','Singer','Lyric']]"
   ]
  },
  {
   "cell_type": "code",
   "execution_count": null,
   "metadata": {},
   "outputs": [],
   "source": [
    "raphip = pd.concat([raphip_top1_50, raphip_top51_100, raphip_top101_150, raphip_top151_200, raphip_top201_250, raphip_top251_300])\n",
    "raphip"
   ]
  },
  {
   "cell_type": "code",
   "execution_count": null,
   "metadata": {},
   "outputs": [],
   "source": [
    "raphip.to_csv(\"./data/raphip.csv\", encoding=\"utf-8\", index=False)"
   ]
  },
  {
   "cell_type": "markdown",
   "metadata": {},
   "source": [
    "## R&B/Soul"
   ]
  },
  {
   "cell_type": "code",
   "execution_count": null,
   "metadata": {},
   "outputs": [],
   "source": [
    "driver.get(\"https://www.melon.com/genre/song_list.htm?gnrCode=GN0400&steadyYn=Y\")\n",
    "\n",
    "title=driver.find_elements_by_class_name('ellipsis.rank01')\n",
    "title2=[]\n",
    "for i in title:\n",
    "    title2.append(i.text)\n",
    "del title2[50:]\n",
    "\n",
    "singer=driver.find_elements_by_class_name('ellipsis.rank02')\n",
    "singer2=[]\n",
    "for i in singer:\n",
    "    singer2.append(i.text)\n",
    "del title2[50:]\n",
    "\n",
    "data['Title'] = title2\n",
    "data['Singer'] = singer2\n",
    "\n",
    "songTagList = driver.find_elements_by_css_selector('tr > td:nth-child(1) > div > input')\n",
    "\n",
    "number = []\n",
    "for i in songTagList:\n",
    "    number.append(i. get_attribute('value'))\n",
    "\n",
    "LYRIC=[]\n",
    "\n",
    "for i in number:\n",
    "    driver.get(\"https://www.melon.com/song/detail.htm?songId=\" + i)\n",
    "    try:\n",
    "        if driver.find_element_by_class_name(\"lyric\"):\n",
    "            lyric=driver.find_element_by_class_name(\"lyric\")\n",
    "            LYRIC.append(lyric.text)\n",
    "    except:\n",
    "        LYRIC.append(\"\")\n",
    "        \n",
    "LYRIC2=[]\n",
    "for i in LYRIC:\n",
    "    LYRIC2.append(i.replace(\"\\n\",\" \"))\n",
    "\n",
    "data['Lyric'] = LYRIC2\n",
    "\n",
    "RB_top1_50 = data[['Title','Singer','Lyric']]\n",
    "RB_top1_50\n",
    "\n",
    "driver.get(\"https://www.melon.com/genre/song_list.htm?gnrCode=GN0400&steadyYn=Y#params%5BgnrCode%5D=GN0400&params%5BdtlGnrCode%5D=&params%5BorderBy%5D=NEW&params%5BsteadyYn%5D=Y&po=pageObj&startIndex=51\")\n",
    "\n",
    "title=driver.find_elements_by_class_name('ellipsis.rank01')\n",
    "title2=[]\n",
    "for i in title:\n",
    "    title2.append(i.text)\n",
    "del title2[50:]\n",
    "\n",
    "singer=driver.find_elements_by_class_name('ellipsis.rank02')\n",
    "singer2=[]\n",
    "for i in singer:\n",
    "    singer2.append(i.text)\n",
    "del title2[50:]\n",
    "\n",
    "data['Title'] = title2\n",
    "data['Singer'] = singer2\n",
    "\n",
    "songTagList = driver.find_elements_by_css_selector('tr > td:nth-child(1) > div > input')\n",
    "\n",
    "number = []\n",
    "for i in songTagList:\n",
    "    number.append(i. get_attribute('value'))\n",
    "\n",
    "LYRIC=[]\n",
    "\n",
    "for i in number:\n",
    "    driver.get(\"https://www.melon.com/song/detail.htm?songId=\" + i)\n",
    "    try:\n",
    "        if driver.find_element_by_class_name(\"lyric\"):\n",
    "            lyric=driver.find_element_by_class_name(\"lyric\")\n",
    "            LYRIC.append(lyric.text)\n",
    "    except:\n",
    "        LYRIC.append(\"\")\n",
    "        \n",
    "LYRIC2=[]\n",
    "for i in LYRIC:\n",
    "    LYRIC2.append(i.replace(\"\\n\",\" \"))\n",
    "    \n",
    "data['Lyric'] = LYRIC2\n",
    "\n",
    "RB_top51_100 = data[['Title','Singer','Lyric']]\n",
    "\n",
    "driver.get(\"https://www.melon.com/genre/song_list.htm?gnrCode=GN0400&steadyYn=Y#params%5BgnrCode%5D=GN0400&params%5BdtlGnrCode%5D=&params%5BorderBy%5D=NEW&params%5BsteadyYn%5D=Y&po=pageObj&startIndex=101\")\n",
    "\n",
    "title=driver.find_elements_by_class_name('ellipsis.rank01')\n",
    "title2=[]\n",
    "for i in title:\n",
    "    title2.append(i.text)\n",
    "del title2[50:]\n",
    "\n",
    "singer=driver.find_elements_by_class_name('ellipsis.rank02')\n",
    "singer2=[]\n",
    "for i in singer:\n",
    "    singer2.append(i.text)\n",
    "del title2[50:]\n",
    "\n",
    "data['Title'] = title2\n",
    "data['Singer'] = singer2\n",
    "\n",
    "songTagList = driver.find_elements_by_css_selector('tr > td:nth-child(1) > div > input')\n",
    "\n",
    "number = []\n",
    "for i in songTagList:\n",
    "    number.append(i. get_attribute('value'))\n",
    "\n",
    "LYRIC=[]\n",
    "\n",
    "for i in number:\n",
    "    driver.get(\"https://www.melon.com/song/detail.htm?songId=\" + i)\n",
    "    try:\n",
    "        if driver.find_element_by_class_name(\"lyric\"):\n",
    "            lyric=driver.find_element_by_class_name(\"lyric\")\n",
    "            LYRIC.append(lyric.text)\n",
    "    except:\n",
    "        LYRIC.append(\"\")\n",
    "        \n",
    "LYRIC2=[]\n",
    "for i in LYRIC:\n",
    "    LYRIC2.append(i.replace(\"\\n\",\" \"))\n",
    "    \n",
    "data['Lyric'] = LYRIC2\n",
    "\n",
    "RB_top101_150 = data[['Title','Singer','Lyric']]\n",
    "\n",
    "driver.get(\"https://www.melon.com/genre/song_list.htm?gnrCode=GN0400&steadyYn=Y#params%5BgnrCode%5D=GN0400&params%5BdtlGnrCode%5D=&params%5BorderBy%5D=NEW&params%5BsteadyYn%5D=Y&po=pageObj&startIndex=151\")\n",
    "\n",
    "title=driver.find_elements_by_class_name('ellipsis.rank01')\n",
    "title2=[]\n",
    "for i in title:\n",
    "    title2.append(i.text)\n",
    "del title2[50:]\n",
    "\n",
    "singer=driver.find_elements_by_class_name('ellipsis.rank02')\n",
    "singer2=[]\n",
    "for i in singer:\n",
    "    singer2.append(i.text)\n",
    "del title2[50:]\n",
    "\n",
    "data['Title'] = title2\n",
    "data['Singer'] = singer2\n",
    "\n",
    "songTagList = driver.find_elements_by_css_selector('tr > td:nth-child(1) > div > input')\n",
    "\n",
    "number = []\n",
    "for i in songTagList:\n",
    "    number.append(i. get_attribute('value'))\n",
    "\n",
    "LYRIC=[]\n",
    "\n",
    "for i in number:\n",
    "    driver.get(\"https://www.melon.com/song/detail.htm?songId=\" + i)\n",
    "    try:\n",
    "        if driver.find_element_by_class_name(\"lyric\"):\n",
    "            lyric=driver.find_element_by_class_name(\"lyric\")\n",
    "            LYRIC.append(lyric.text)\n",
    "    except:\n",
    "        LYRIC.append(\"\")\n",
    "        \n",
    "LYRIC2=[]\n",
    "for i in LYRIC:\n",
    "    LYRIC2.append(i.replace(\"\\n\",\" \"))\n",
    "    \n",
    "data['Lyric'] = LYRIC2\n",
    "\n",
    "RB_top151_200 = data[['Title','Singer','Lyric']]\n",
    "\n",
    "\n",
    "driver.get(\"https://www.melon.com/genre/song_list.htm?gnrCode=GN0400&steadyYn=Y#params%5BgnrCode%5D=GN0400&params%5BdtlGnrCode%5D=&params%5BorderBy%5D=NEW&params%5BsteadyYn%5D=Y&po=pageObj&startIndex=201\")\n",
    "\n",
    "title=driver.find_elements_by_class_name('ellipsis.rank01')\n",
    "title2=[]\n",
    "for i in title:\n",
    "    title2.append(i.text)\n",
    "del title2[50:]\n",
    "\n",
    "singer=driver.find_elements_by_class_name('ellipsis.rank02')\n",
    "singer2=[]\n",
    "for i in singer:\n",
    "    singer2.append(i.text)\n",
    "del title2[50:]\n",
    "\n",
    "data['Title'] = title2\n",
    "data['Singer'] = singer2\n",
    "\n",
    "songTagList = driver.find_elements_by_css_selector('tr > td:nth-child(1) > div > input')\n",
    "\n",
    "number = []\n",
    "for i in songTagList:\n",
    "    number.append(i. get_attribute('value'))\n",
    "\n",
    "LYRIC=[]\n",
    "\n",
    "for i in number:\n",
    "    driver.get(\"https://www.melon.com/song/detail.htm?songId=\" + i)\n",
    "    try:\n",
    "        if driver.find_element_by_class_name(\"lyric\"):\n",
    "            lyric=driver.find_element_by_class_name(\"lyric\")\n",
    "            LYRIC.append(lyric.text)\n",
    "    except:\n",
    "        LYRIC.append(\"\")\n",
    "        \n",
    "LYRIC2=[]\n",
    "for i in LYRIC:\n",
    "    LYRIC2.append(i.replace(\"\\n\",\" \"))\n",
    "    \n",
    "data['Lyric'] = LYRIC2\n",
    "\n",
    "RB_top201_250 = data[['Title','Singer','Lyric']]\n",
    "\n",
    "\n",
    "driver.get(\"https://www.melon.com/genre/song_list.htm?gnrCode=GN0400&steadyYn=Y#params%5BgnrCode%5D=GN0400&params%5BdtlGnrCode%5D=&params%5BorderBy%5D=NEW&params%5BsteadyYn%5D=Y&po=pageObj&startIndex=251\")\n",
    "\n",
    "title=driver.find_elements_by_class_name('ellipsis.rank01')\n",
    "title2=[]\n",
    "for i in title:\n",
    "    title2.append(i.text)\n",
    "del title2[50:]\n",
    "\n",
    "singer=driver.find_elements_by_class_name('ellipsis.rank02')\n",
    "singer2=[]\n",
    "for i in singer:\n",
    "    singer2.append(i.text)\n",
    "del title2[50:]\n",
    "\n",
    "data['Title'] = title2\n",
    "data['Singer'] = singer2\n",
    "\n",
    "songTagList = driver.find_elements_by_css_selector('tr > td:nth-child(1) > div > input')\n",
    "\n",
    "number = []\n",
    "for i in songTagList:\n",
    "    number.append(i. get_attribute('value'))\n",
    "\n",
    "LYRIC=[]\n",
    "\n",
    "for i in number:\n",
    "    driver.get(\"https://www.melon.com/song/detail.htm?songId=\" + i)\n",
    "    try:\n",
    "        if driver.find_element_by_class_name(\"lyric\"):\n",
    "            lyric=driver.find_element_by_class_name(\"lyric\")\n",
    "            LYRIC.append(lyric.text)\n",
    "    except:\n",
    "        LYRIC.append(\"\")\n",
    "        \n",
    "LYRIC2=[]\n",
    "for i in LYRIC:\n",
    "    LYRIC2.append(i.replace(\"\\n\",\" \"))\n",
    "    \n",
    "data['Lyric'] = LYRIC2\n",
    "\n",
    "RB_top251_300 = data[['Title','Singer','Lyric']]"
   ]
  },
  {
   "cell_type": "code",
   "execution_count": null,
   "metadata": {},
   "outputs": [],
   "source": [
    "RB = pd.concat([RB_top1_50, RB_top51_100, RB_top101_150, RB_top151_200, RB_top201_250, RB_top251_300])\n",
    "RB"
   ]
  },
  {
   "cell_type": "code",
   "execution_count": null,
   "metadata": {},
   "outputs": [],
   "source": [
    "RB.to_csv(\"./data/RB.csv\", encoding=\"utf-8\", index=False)"
   ]
  },
  {
   "cell_type": "markdown",
   "metadata": {},
   "source": [
    "## 인디음악"
   ]
  },
  {
   "cell_type": "code",
   "execution_count": null,
   "metadata": {},
   "outputs": [],
   "source": [
    "driver.get(\"https://www.melon.com/genre/song_list.htm?gnrCode=GN0500&steadyYn=Y\")\n",
    "\n",
    "title=driver.find_elements_by_class_name('ellipsis.rank01')\n",
    "title2=[]\n",
    "for i in title:\n",
    "    title2.append(i.text)\n",
    "del title2[50:]\n",
    "\n",
    "singer=driver.find_elements_by_class_name('ellipsis.rank02')\n",
    "singer2=[]\n",
    "for i in singer:\n",
    "    singer2.append(i.text)\n",
    "del title2[50:]\n",
    "\n",
    "data['Title'] = title2\n",
    "data['Singer'] = singer2\n",
    "\n",
    "songTagList = driver.find_elements_by_css_selector('tr > td:nth-child(1) > div > input')\n",
    "\n",
    "number = []\n",
    "for i in songTagList:\n",
    "    number.append(i. get_attribute('value'))\n",
    "\n",
    "LYRIC=[]\n",
    "\n",
    "for i in number:\n",
    "    driver.get(\"https://www.melon.com/song/detail.htm?songId=\" + i)\n",
    "    try:\n",
    "        if driver.find_element_by_class_name(\"lyric\"):\n",
    "            lyric=driver.find_element_by_class_name(\"lyric\")\n",
    "            LYRIC.append(lyric.text)\n",
    "    except:\n",
    "        LYRIC.append(\"\")\n",
    "        \n",
    "LYRIC2=[]\n",
    "for i in LYRIC:\n",
    "    LYRIC2.append(i.replace(\"\\n\",\" \"))\n",
    "    \n",
    "data['Lyric'] = LYRIC2\n",
    "\n",
    "INDI_top1_50 = data[['Title','Singer','Lyric']]\n",
    "\n",
    "driver.get(\"https://www.melon.com/genre/song_list.htm?gnrCode=GN0500&steadyYn=Y#params%5BgnrCode%5D=GN0500&params%5BdtlGnrCode%5D=GN0501&params%5BorderBy%5D=NEW&params%5BsteadyYn%5D=Y&po=pageObj&startIndex=51\")\n",
    "\n",
    "title=driver.find_elements_by_class_name('ellipsis.rank01')\n",
    "title2=[]\n",
    "for i in title:\n",
    "    title2.append(i.text)\n",
    "del title2[50:]\n",
    "\n",
    "singer=driver.find_elements_by_class_name('ellipsis.rank02')\n",
    "singer2=[]\n",
    "for i in singer:\n",
    "    singer2.append(i.text)\n",
    "del title2[50:]\n",
    "\n",
    "data['Title'] = title2\n",
    "data['Singer'] = singer2\n",
    "\n",
    "songTagList = driver.find_elements_by_css_selector('tr > td:nth-child(1) > div > input')\n",
    "\n",
    "number = []\n",
    "for i in songTagList:\n",
    "    number.append(i. get_attribute('value'))\n",
    "\n",
    "LYRIC=[]\n",
    "\n",
    "for i in number:\n",
    "    driver.get(\"https://www.melon.com/song/detail.htm?songId=\" + i)\n",
    "    try:\n",
    "        if driver.find_element_by_class_name(\"lyric\"):\n",
    "            lyric=driver.find_element_by_class_name(\"lyric\")\n",
    "            LYRIC.append(lyric.text)\n",
    "    except:\n",
    "        LYRIC.append(\"\")\n",
    "        \n",
    "LYRIC2=[]\n",
    "for i in LYRIC:\n",
    "    LYRIC2.append(i.replace(\"\\n\",\" \"))\n",
    "    \n",
    "data['Lyric'] = LYRIC2\n",
    "\n",
    "INDI_top51_100 = data[['Title','Singer','Lyric']]\n",
    "\n",
    "driver.get(\"https://www.melon.com/genre/song_list.htm?gnrCode=GN0500&steadyYn=Y#params%5BgnrCode%5D=GN0500&params%5BdtlGnrCode%5D=GN0501&params%5BorderBy%5D=NEW&params%5BsteadyYn%5D=Y&po=pageObj&startIndex=101\")\n",
    "\n",
    "title=driver.find_elements_by_class_name('ellipsis.rank01')\n",
    "title2=[]\n",
    "for i in title:\n",
    "    title2.append(i.text)\n",
    "del title2[50:]\n",
    "\n",
    "singer=driver.find_elements_by_class_name('ellipsis.rank02')\n",
    "singer2=[]\n",
    "for i in singer:\n",
    "    singer2.append(i.text)\n",
    "del title2[50:]\n",
    "\n",
    "data['Title'] = title2\n",
    "data['Singer'] = singer2\n",
    "\n",
    "songTagList = driver.find_elements_by_css_selector('tr > td:nth-child(1) > div > input')\n",
    "\n",
    "number = []\n",
    "for i in songTagList:\n",
    "    number.append(i. get_attribute('value'))\n",
    "\n",
    "LYRIC=[]\n",
    "\n",
    "for i in number:\n",
    "    driver.get(\"https://www.melon.com/song/detail.htm?songId=\" + i)\n",
    "    try:\n",
    "        if driver.find_element_by_class_name(\"lyric\"):\n",
    "            lyric=driver.find_element_by_class_name(\"lyric\")\n",
    "            LYRIC.append(lyric.text)\n",
    "    except:\n",
    "        LYRIC.append(\"\")\n",
    "        \n",
    "LYRIC2=[]\n",
    "for i in LYRIC:\n",
    "    LYRIC2.append(i.replace(\"\\n\",\" \"))\n",
    "    \n",
    "data['Lyric'] = LYRIC2\n",
    "\n",
    "INDI_top101_150 = data[['Title','Singer','Lyric']]"
   ]
  },
  {
   "cell_type": "code",
   "execution_count": null,
   "metadata": {},
   "outputs": [],
   "source": [
    "driver.get(\"https://www.melon.com/genre/song_list.htm?gnrCode=GN0500&steadyYn=Y#params%5BgnrCode%5D=GN0500&params%5BdtlGnrCode%5D=GN0501&params%5BorderBy%5D=NEW&params%5BsteadyYn%5D=Y&po=pageObj&startIndex=151\")\n",
    "\n",
    "title=driver.find_elements_by_class_name('ellipsis.rank01')\n",
    "title2=[]\n",
    "for i in title:\n",
    "    title2.append(i.text)\n",
    "del title2[50:]\n",
    "\n",
    "singer=driver.find_elements_by_class_name('ellipsis.rank02')\n",
    "singer2=[]\n",
    "for i in singer:\n",
    "    singer2.append(i.text)\n",
    "del title2[50:]\n",
    "\n",
    "data['Title'] = title2\n",
    "data['Singer'] = singer2\n",
    "\n",
    "songTagList = driver.find_elements_by_css_selector('tr > td:nth-child(1) > div > input')\n",
    "\n",
    "number = []\n",
    "for i in songTagList:\n",
    "    number.append(i. get_attribute('value'))\n",
    "\n",
    "LYRIC=[]\n",
    "\n",
    "for i in number:\n",
    "    driver.get(\"https://www.melon.com/song/detail.htm?songId=\" + i)\n",
    "    try:\n",
    "        if driver.find_element_by_class_name(\"lyric\"):\n",
    "            lyric=driver.find_element_by_class_name(\"lyric\")\n",
    "            LYRIC.append(lyric.text)\n",
    "    except:\n",
    "        LYRIC.append(\"\")\n",
    "        \n",
    "LYRIC2=[]\n",
    "for i in LYRIC:\n",
    "    LYRIC2.append(i.replace(\"\\n\",\" \"))\n",
    "    \n",
    "data['Lyric'] = LYRIC2\n",
    "\n",
    "INDI_top151_200 = data[['Title','Singer','Lyric']]\n",
    "\n",
    "\n",
    "driver.get(\"https://www.melon.com/genre/song_list.htm?gnrCode=GN0500&steadyYn=Y#params%5BgnrCode%5D=GN0500&params%5BdtlGnrCode%5D=GN0501&params%5BorderBy%5D=NEW&params%5BsteadyYn%5D=Y&po=pageObj&startIndex=201\")\n",
    "\n",
    "title=driver.find_elements_by_class_name('ellipsis.rank01')\n",
    "title2=[]\n",
    "for i in title:\n",
    "    title2.append(i.text)\n",
    "del title2[50:]\n",
    "\n",
    "singer=driver.find_elements_by_class_name('ellipsis.rank02')\n",
    "singer2=[]\n",
    "for i in singer:\n",
    "    singer2.append(i.text)\n",
    "del title2[50:]\n",
    "\n",
    "data['Title'] = title2\n",
    "data['Singer'] = singer2\n",
    "\n",
    "songTagList = driver.find_elements_by_css_selector('tr > td:nth-child(1) > div > input')\n",
    "\n",
    "number = []\n",
    "for i in songTagList:\n",
    "    number.append(i. get_attribute('value'))\n",
    "\n",
    "LYRIC=[]\n",
    "\n",
    "for i in number:\n",
    "    driver.get(\"https://www.melon.com/song/detail.htm?songId=\" + i)\n",
    "    try:\n",
    "        if driver.find_element_by_class_name(\"lyric\"):\n",
    "            lyric=driver.find_element_by_class_name(\"lyric\")\n",
    "            LYRIC.append(lyric.text)\n",
    "    except:\n",
    "        LYRIC.append(\"\")\n",
    "        \n",
    "LYRIC2=[]\n",
    "for i in LYRIC:\n",
    "    LYRIC2.append(i.replace(\"\\n\",\" \"))\n",
    "    \n",
    "data['Lyric'] = LYRIC2\n",
    "\n",
    "INDI_top201_250 = data[['Title','Singer','Lyric']]\n",
    "\n",
    "\n",
    "driver.get(\"https://www.melon.com/genre/song_list.htm?gnrCode=GN0500&steadyYn=Y#params%5BgnrCode%5D=GN0500&params%5BdtlGnrCode%5D=GN0501&params%5BorderBy%5D=NEW&params%5BsteadyYn%5D=Y&po=pageObj&startIndex=251\")\n",
    "\n",
    "title=driver.find_elements_by_class_name('ellipsis.rank01')\n",
    "title2=[]\n",
    "for i in title:\n",
    "    title2.append(i.text)\n",
    "del title2[50:]\n",
    "\n",
    "singer=driver.find_elements_by_class_name('ellipsis.rank02')\n",
    "singer2=[]\n",
    "for i in singer:\n",
    "    singer2.append(i.text)\n",
    "del title2[50:]\n",
    "\n",
    "data['Title'] = title2\n",
    "data['Singer'] = singer2\n",
    "\n",
    "songTagList = driver.find_elements_by_css_selector('tr > td:nth-child(1) > div > input')\n",
    "\n",
    "number = []\n",
    "for i in songTagList:\n",
    "    number.append(i. get_attribute('value'))\n",
    "\n",
    "LYRIC=[]\n",
    "\n",
    "for i in number:\n",
    "    driver.get(\"https://www.melon.com/song/detail.htm?songId=\" + i)\n",
    "    try:\n",
    "        if driver.find_element_by_class_name(\"lyric\"):\n",
    "            lyric=driver.find_element_by_class_name(\"lyric\")\n",
    "            LYRIC.append(lyric.text)\n",
    "    except:\n",
    "        LYRIC.append(\"\")\n",
    "        \n",
    "LYRIC2=[]\n",
    "for i in LYRIC:\n",
    "    LYRIC2.append(i.replace(\"\\n\",\" \"))\n",
    "    \n",
    "data['Lyric'] = LYRIC2\n",
    "\n",
    "INDI_top251_300 = data[['Title','Singer','Lyric']]"
   ]
  },
  {
   "cell_type": "code",
   "execution_count": null,
   "metadata": {},
   "outputs": [],
   "source": [
    "INDI = pd.concat([INDI_top1_50, INDI_top51_100, INDI_top101_150, INDI_top151_200, INDI_top201_250, INDI_top251_300])\n",
    "INDI"
   ]
  },
  {
   "cell_type": "code",
   "execution_count": null,
   "metadata": {},
   "outputs": [],
   "source": [
    "INDI.to_csv(\"./data/INDI.csv\", encoding=\"utf-8\", index=False)"
   ]
  },
  {
   "cell_type": "markdown",
   "metadata": {},
   "source": [
    "## 록/메탈"
   ]
  },
  {
   "cell_type": "code",
   "execution_count": null,
   "metadata": {
    "scrolled": true
   },
   "outputs": [],
   "source": [
    "driver.get(\"https://www.melon.com/genre/song_list.htm?gnrCode=GN0600&steadyYn=Y\")\n",
    "\n",
    "title=driver.find_elements_by_class_name('ellipsis.rank01')\n",
    "title2=[]\n",
    "for i in title:\n",
    "    title2.append(i.text)\n",
    "del title2[50:]\n",
    "\n",
    "singer=driver.find_elements_by_class_name('ellipsis.rank02')\n",
    "singer2=[]\n",
    "for i in singer:\n",
    "    singer2.append(i.text)\n",
    "del title2[50:]\n",
    "\n",
    "data['Title'] = title2\n",
    "data['Singer'] = singer2\n",
    "\n",
    "songTagList = driver.find_elements_by_css_selector('tr > td:nth-child(1) > div > input')\n",
    "\n",
    "number = []\n",
    "for i in songTagList:\n",
    "    number.append(i. get_attribute('value'))\n",
    "\n",
    "LYRIC=[]\n",
    "\n",
    "for i in number:\n",
    "    driver.get(\"https://www.melon.com/song/detail.htm?songId=\" + i)\n",
    "    try:\n",
    "        if driver.find_element_by_class_name(\"lyric\"):\n",
    "            lyric=driver.find_element_by_class_name(\"lyric\")\n",
    "            LYRIC.append(lyric.text)\n",
    "    except:\n",
    "        LYRIC.append(\"\")\n",
    "        \n",
    "LYRIC2=[]\n",
    "for i in LYRIC:\n",
    "    LYRIC2.append(i.replace(\"\\n\",\" \"))\n",
    "    \n",
    "data['Lyric'] = LYRIC2\n",
    "\n",
    "ROCK_top1_50 = data[['Title','Singer','Lyric']]\n",
    "\n",
    "driver.get(\"https://www.melon.com/genre/song_list.htm?gnrCode=GN0600&steadyYn=Y#params%5BgnrCode%5D=GN0600&params%5BdtlGnrCode%5D=&params%5BorderBy%5D=NEW&params%5BsteadyYn%5D=Y&po=pageObj&startIndex=51\")\n",
    "\n",
    "title=driver.find_elements_by_class_name('ellipsis.rank01')\n",
    "title2=[]\n",
    "for i in title:\n",
    "    title2.append(i.text)\n",
    "del title2[50:]\n",
    "\n",
    "singer=driver.find_elements_by_class_name('ellipsis.rank02')\n",
    "singer2=[]\n",
    "for i in singer:\n",
    "    singer2.append(i.text)\n",
    "del title2[50:]\n",
    "\n",
    "data['Title'] = title2\n",
    "data['Singer'] = singer2\n",
    "\n",
    "songTagList = driver.find_elements_by_css_selector('tr > td:nth-child(1) > div > input')\n",
    "\n",
    "number = []\n",
    "for i in songTagList:\n",
    "    number.append(i. get_attribute('value'))\n",
    "\n",
    "LYRIC=[]\n",
    "\n",
    "for i in number:\n",
    "    driver.get(\"https://www.melon.com/song/detail.htm?songId=\" + i)\n",
    "    try:\n",
    "        if driver.find_element_by_class_name(\"lyric\"):\n",
    "            lyric=driver.find_element_by_class_name(\"lyric\")\n",
    "            LYRIC.append(lyric.text)\n",
    "    except:\n",
    "        LYRIC.append(\"\")\n",
    "        \n",
    "LYRIC2=[]\n",
    "for i in LYRIC:\n",
    "    LYRIC2.append(i.replace(\"\\n\",\" \"))\n",
    "    \n",
    "data['Lyric'] = LYRIC2\n",
    "\n",
    "ROCK_top51_100 = data[['Title','Singer','Lyric']]\n",
    "\n",
    "driver.get(\"https://www.melon.com/genre/song_list.htm?gnrCode=GN0600&steadyYn=Y#params%5BgnrCode%5D=GN0600&params%5BdtlGnrCode%5D=&params%5BorderBy%5D=NEW&params%5BsteadyYn%5D=Y&po=pageObj&startIndex=101\")\n",
    "title=driver.find_elements_by_class_name('ellipsis.rank01')\n",
    "title2=[]\n",
    "for i in title:\n",
    "    title2.append(i.text)\n",
    "del title2[50:]\n",
    "\n",
    "singer=driver.find_elements_by_class_name('ellipsis.rank02')\n",
    "singer2=[]\n",
    "for i in singer:\n",
    "    singer2.append(i.text)\n",
    "del title2[50:]\n",
    "\n",
    "data['Title'] = title2\n",
    "data['Singer'] = singer2\n",
    "\n",
    "songTagList = driver.find_elements_by_css_selector('tr > td:nth-child(1) > div > input')\n",
    "\n",
    "number = []\n",
    "for i in songTagList:\n",
    "    number.append(i. get_attribute('value'))\n",
    "\n",
    "LYRIC=[]\n",
    "\n",
    "for i in number:\n",
    "    driver.get(\"https://www.melon.com/song/detail.htm?songId=\" + i)\n",
    "    try:\n",
    "        if driver.find_element_by_class_name(\"lyric\"):\n",
    "            lyric=driver.find_element_by_class_name(\"lyric\")\n",
    "            LYRIC.append(lyric.text)\n",
    "    except:\n",
    "        LYRIC.append(\"\")\n",
    "        \n",
    "LYRIC2=[]\n",
    "for i in LYRIC:\n",
    "    LYRIC2.append(i.replace(\"\\n\",\" \"))\n",
    "    \n",
    "data['Lyric'] = LYRIC2\n",
    "\n",
    "ROCK_top101_150 = data[['Title','Singer','Lyric']]"
   ]
  },
  {
   "cell_type": "code",
   "execution_count": null,
   "metadata": {},
   "outputs": [],
   "source": []
  },
  {
   "cell_type": "code",
   "execution_count": null,
   "metadata": {},
   "outputs": [],
   "source": [
    "driver.get(\"https://www.melon.com/genre/song_list.htm?gnrCode=GN0600&steadyYn=Y#params%5BgnrCode%5D=GN0600&params%5BdtlGnrCode%5D=&params%5BorderBy%5D=NEW&params%5BsteadyYn%5D=Y&po=pageObj&startIndex=151\")\n",
    "\n",
    "title=driver.find_elements_by_class_name('ellipsis.rank01')\n",
    "title2=[]\n",
    "for i in title:\n",
    "    title2.append(i.text)\n",
    "del title2[50:]\n",
    "\n",
    "singer=driver.find_elements_by_class_name('ellipsis.rank02')\n",
    "singer2=[]\n",
    "for i in singer:\n",
    "    singer2.append(i.text)\n",
    "del title2[50:]\n",
    "\n",
    "data['Title'] = title2\n",
    "data['Singer'] = singer2\n",
    "\n",
    "songTagList = driver.find_elements_by_css_selector('tr > td:nth-child(1) > div > input')\n",
    "\n",
    "number = []\n",
    "for i in songTagList:\n",
    "    number.append(i. get_attribute('value'))\n",
    "\n",
    "LYRIC=[]\n",
    "\n",
    "for i in number:\n",
    "    driver.get(\"https://www.melon.com/song/detail.htm?songId=\" + i)\n",
    "    try:\n",
    "        if driver.find_element_by_class_name(\"lyric\"):\n",
    "            lyric=driver.find_element_by_class_name(\"lyric\")\n",
    "            LYRIC.append(lyric.text)\n",
    "    except:\n",
    "        LYRIC.append(\"\")\n",
    "        \n",
    "LYRIC2=[]\n",
    "for i in LYRIC:\n",
    "    LYRIC2.append(i.replace(\"\\n\",\" \"))\n",
    "    \n",
    "data['Lyric'] = LYRIC2\n",
    "\n",
    "ROCK_top151_200 = data[['Title','Singer','Lyric']]\n",
    "\n",
    "\n",
    "driver.get(\"https://www.melon.com/genre/song_list.htm?gnrCode=GN0600&steadyYn=Y#params%5BgnrCode%5D=GN0600&params%5BdtlGnrCode%5D=&params%5BorderBy%5D=NEW&params%5BsteadyYn%5D=Y&po=pageObj&startIndex=201\")\n",
    "\n",
    "title=driver.find_elements_by_class_name('ellipsis.rank01')\n",
    "title2=[]\n",
    "for i in title:\n",
    "    title2.append(i.text)\n",
    "del title2[50:]\n",
    "\n",
    "singer=driver.find_elements_by_class_name('ellipsis.rank02')\n",
    "singer2=[]\n",
    "for i in singer:\n",
    "    singer2.append(i.text)\n",
    "del title2[50:]\n",
    "\n",
    "data['Title'] = title2\n",
    "data['Singer'] = singer2\n",
    "\n",
    "songTagList = driver.find_elements_by_css_selector('tr > td:nth-child(1) > div > input')\n",
    "\n",
    "number = []\n",
    "for i in songTagList:\n",
    "    number.append(i. get_attribute('value'))\n",
    "\n",
    "LYRIC=[]\n",
    "\n",
    "for i in number:\n",
    "    driver.get(\"https://www.melon.com/song/detail.htm?songId=\" + i)\n",
    "    try:\n",
    "        if driver.find_element_by_class_name(\"lyric\"):\n",
    "            lyric=driver.find_element_by_class_name(\"lyric\")\n",
    "            LYRIC.append(lyric.text)\n",
    "    except:\n",
    "        LYRIC.append(\"\")\n",
    "        \n",
    "LYRIC2=[]\n",
    "for i in LYRIC:\n",
    "    LYRIC2.append(i.replace(\"\\n\",\" \"))\n",
    "    \n",
    "data['Lyric'] = LYRIC2\n",
    "\n",
    "ROCK_top201_250 = data[['Title','Singer','Lyric']]\n",
    "\n",
    "\n",
    "driver.get(\"https://www.melon.com/genre/song_list.htm?gnrCode=GN0600&steadyYn=Y#params%5BgnrCode%5D=GN0600&params%5BdtlGnrCode%5D=&params%5BorderBy%5D=NEW&params%5BsteadyYn%5D=Y&po=pageObj&startIndex=251\")\n",
    "\n",
    "title=driver.find_elements_by_class_name('ellipsis.rank01')\n",
    "title2=[]\n",
    "for i in title:\n",
    "    title2.append(i.text)\n",
    "del title2[50:]\n",
    "\n",
    "singer=driver.find_elements_by_class_name('ellipsis.rank02')\n",
    "singer2=[]\n",
    "for i in singer:\n",
    "    singer2.append(i.text)\n",
    "del title2[50:]\n",
    "\n",
    "data['Title'] = title2\n",
    "data['Singer'] = singer2\n",
    "\n",
    "songTagList = driver.find_elements_by_css_selector('tr > td:nth-child(1) > div > input')\n",
    "\n",
    "number = []\n",
    "for i in songTagList:\n",
    "    number.append(i. get_attribute('value'))\n",
    "\n",
    "LYRIC=[]\n",
    "\n",
    "for i in number:\n",
    "    driver.get(\"https://www.melon.com/song/detail.htm?songId=\" + i)\n",
    "    try:\n",
    "        if driver.find_element_by_class_name(\"lyric\"):\n",
    "            lyric=driver.find_element_by_class_name(\"lyric\")\n",
    "            LYRIC.append(lyric.text)\n",
    "    except:\n",
    "        LYRIC.append(\"\")\n",
    "        \n",
    "LYRIC2=[]\n",
    "for i in LYRIC:\n",
    "    LYRIC2.append(i.replace(\"\\n\",\" \"))\n",
    "    \n",
    "data['Lyric'] = LYRIC2\n",
    "\n",
    "ROCK_top251_300 = data[['Title','Singer','Lyric']]"
   ]
  },
  {
   "cell_type": "code",
   "execution_count": null,
   "metadata": {},
   "outputs": [],
   "source": [
    "ROCK = pd.concat([ROCK_top1_50, ROCK_top51_100, ROCK_top101_150, ROCK_top151_200, ROCK_top201_250, ROCK_top251_300])\n",
    "ROCK"
   ]
  },
  {
   "cell_type": "code",
   "execution_count": null,
   "metadata": {},
   "outputs": [],
   "source": [
    "ROCK.to_csv(\"./data/ROCK.csv\", encoding=\"utf-8\", index=False)"
   ]
  },
  {
   "cell_type": "markdown",
   "metadata": {},
   "source": [
    "## 트로트"
   ]
  },
  {
   "cell_type": "code",
   "execution_count": null,
   "metadata": {
    "scrolled": true
   },
   "outputs": [],
   "source": [
    "driver.get(\"https://www.melon.com/genre/song_list.htm?gnrCode=GN0700&steadyYn=Y\")\n",
    "\n",
    "title=driver.find_elements_by_class_name('ellipsis.rank01')\n",
    "title2=[]\n",
    "for i in title:\n",
    "    title2.append(i.text)\n",
    "del title2[50:]\n",
    "\n",
    "singer=driver.find_elements_by_class_name('ellipsis.rank02')\n",
    "singer2=[]\n",
    "for i in singer:\n",
    "    singer2.append(i.text)\n",
    "del title2[50:]\n",
    "\n",
    "data['Title'] = title2\n",
    "data['Singer'] = singer2\n",
    "\n",
    "songTagList = driver.find_elements_by_css_selector('tr > td:nth-child(1) > div > input')\n",
    "\n",
    "number = []\n",
    "for i in songTagList:\n",
    "    number.append(i. get_attribute('value'))\n",
    "\n",
    "LYRIC=[]\n",
    "\n",
    "for i in number:\n",
    "    driver.get(\"https://www.melon.com/song/detail.htm?songId=\" + i)\n",
    "    try:\n",
    "        if driver.find_element_by_class_name(\"lyric\"):\n",
    "            lyric=driver.find_element_by_class_name(\"lyric\")\n",
    "            LYRIC.append(lyric.text)\n",
    "    except:\n",
    "        LYRIC.append(\"\")\n",
    "        \n",
    "LYRIC2=[]\n",
    "for i in LYRIC:\n",
    "    LYRIC2.append(i.replace(\"\\n\",\" \"))\n",
    "    \n",
    "data['Lyric'] = LYRIC2\n",
    "\n",
    "TRO_top1_50 = data[['Title','Singer','Lyric']]\n",
    "\n",
    "driver.get(\"https://www.melon.com/genre/song_list.htm?gnrCode=GN0700&steadyYn=Y#params%5BgnrCode%5D=GN0700&params%5BdtlGnrCode%5D=GN0701&params%5BorderBy%5D=NEW&params%5BsteadyYn%5D=Y&po=pageObj&startIndex=51\")\n",
    "title=driver.find_elements_by_class_name('ellipsis.rank01')\n",
    "title2=[]\n",
    "for i in title:\n",
    "    title2.append(i.text)\n",
    "del title2[50:]\n",
    "\n",
    "singer=driver.find_elements_by_class_name('ellipsis.rank02')\n",
    "singer2=[]\n",
    "for i in singer:\n",
    "    singer2.append(i.text)\n",
    "del title2[50:]\n",
    "\n",
    "data['Title'] = title2\n",
    "data['Singer'] = singer2\n",
    "\n",
    "songTagList = driver.find_elements_by_css_selector('tr > td:nth-child(1) > div > input')\n",
    "\n",
    "number = []\n",
    "for i in songTagList:\n",
    "    number.append(i. get_attribute('value'))\n",
    "\n",
    "LYRIC=[]\n",
    "\n",
    "for i in number:\n",
    "    driver.get(\"https://www.melon.com/song/detail.htm?songId=\" + i)\n",
    "    try:\n",
    "        if driver.find_element_by_class_name(\"lyric\"):\n",
    "            lyric=driver.find_element_by_class_name(\"lyric\")\n",
    "            LYRIC.append(lyric.text)\n",
    "    except:\n",
    "        LYRIC.append(\"\")\n",
    "        \n",
    "LYRIC2=[]\n",
    "for i in LYRIC:\n",
    "    LYRIC2.append(i.replace(\"\\n\",\" \"))\n",
    "    \n",
    "data['Lyric'] = LYRIC2\n",
    "\n",
    "TRO_top51_100 = data[['Title','Singer','Lyric']]\n",
    "\n",
    "driver.get(\"https://www.melon.com/genre/song_list.htm?gnrCode=GN0700&steadyYn=Y#params%5BgnrCode%5D=GN0700&params%5BdtlGnrCode%5D=GN0701&params%5BorderBy%5D=NEW&params%5BsteadyYn%5D=Y&po=pageObj&startIndex=101\")\n",
    "\n",
    "title=driver.find_elements_by_class_name('ellipsis.rank01')\n",
    "title2=[]\n",
    "for i in title:\n",
    "    title2.append(i.text)\n",
    "del title2[50:]\n",
    "\n",
    "singer=driver.find_elements_by_class_name('ellipsis.rank02')\n",
    "singer2=[]\n",
    "for i in singer:\n",
    "    singer2.append(i.text)\n",
    "del title2[50:]\n",
    "\n",
    "data['Title'] = title2\n",
    "data['Singer'] = singer2\n",
    "\n",
    "songTagList = driver.find_elements_by_css_selector('tr > td:nth-child(1) > div > input')\n",
    "\n",
    "number = []\n",
    "for i in songTagList:\n",
    "    number.append(i. get_attribute('value'))\n",
    "\n",
    "LYRIC=[]\n",
    "\n",
    "for i in number:\n",
    "    driver.get(\"https://www.melon.com/song/detail.htm?songId=\" + i)\n",
    "    try:\n",
    "        if driver.find_element_by_class_name(\"lyric\"):\n",
    "            lyric=driver.find_element_by_class_name(\"lyric\")\n",
    "            LYRIC.append(lyric.text)\n",
    "    except:\n",
    "        LYRIC.append(\"\")\n",
    "        \n",
    "LYRIC2=[]\n",
    "for i in LYRIC:\n",
    "    LYRIC2.append(i.replace(\"\\n\",\" \"))\n",
    "    \n",
    "data['Lyric'] = LYRIC2\n",
    "\n",
    "TRO_top101_150 = data[['Title','Singer','Lyric']]"
   ]
  },
  {
   "cell_type": "code",
   "execution_count": null,
   "metadata": {},
   "outputs": [],
   "source": []
  },
  {
   "cell_type": "code",
   "execution_count": null,
   "metadata": {},
   "outputs": [],
   "source": [
    "#start\n",
    "driver.get(\"https://www.melon.com/genre/song_list.htm?gnrCode=GN0700&steadyYn=Y#params%5BgnrCode%5D=GN0700&params%5BdtlGnrCode%5D=GN0701&params%5BorderBy%5D=NEW&params%5BsteadyYn%5D=Y&po=pageObj&startIndex=151\")\n",
    "\n",
    "title=driver.find_elements_by_class_name('ellipsis.rank01')\n",
    "title2=[]\n",
    "for i in title:\n",
    "    title2.append(i.text)\n",
    "del title2[50:]\n",
    "\n",
    "singer=driver.find_elements_by_class_name('ellipsis.rank02')\n",
    "singer2=[]\n",
    "for i in singer:\n",
    "    singer2.append(i.text)\n",
    "del title2[50:]\n",
    "\n",
    "data['Title'] = title2\n",
    "data['Singer'] = singer2\n",
    "\n",
    "songTagList = driver.find_elements_by_css_selector('tr > td:nth-child(1) > div > input')\n",
    "\n",
    "number = []\n",
    "for i in songTagList:\n",
    "    number.append(i. get_attribute('value'))\n",
    "\n",
    "LYRIC=[]\n",
    "\n",
    "for i in number:\n",
    "    driver.get(\"https://www.melon.com/song/detail.htm?songId=\" + i)\n",
    "    try:\n",
    "        if driver.find_element_by_class_name(\"lyric\"):\n",
    "            lyric=driver.find_element_by_class_name(\"lyric\")\n",
    "            LYRIC.append(lyric.text)\n",
    "    except:\n",
    "        LYRIC.append(\"\")\n",
    "        \n",
    "LYRIC2=[]\n",
    "for i in LYRIC:\n",
    "    LYRIC2.append(i.replace(\"\\n\",\" \"))\n",
    "    \n",
    "data['Lyric'] = LYRIC2\n",
    "\n",
    "TRO_top151_200 = data[['Title','Singer','Lyric']]\n",
    "\n",
    "driver.get(\"https://www.melon.com/genre/song_list.htm?gnrCode=GN0700&steadyYn=Y#params%5BgnrCode%5D=GN0700&params%5BdtlGnrCode%5D=GN0701&params%5BorderBy%5D=NEW&params%5BsteadyYn%5D=Y&po=pageObj&startIndex=201\")\n",
    "\n",
    "title=driver.find_elements_by_class_name('ellipsis.rank01')\n",
    "title2=[]\n",
    "for i in title:\n",
    "    title2.append(i.text)\n",
    "del title2[50:]\n",
    "\n",
    "singer=driver.find_elements_by_class_name('ellipsis.rank02')\n",
    "singer2=[]\n",
    "for i in singer:\n",
    "    singer2.append(i.text)\n",
    "del title2[50:]\n",
    "\n",
    "data['Title'] = title2\n",
    "data['Singer'] = singer2\n",
    "\n",
    "songTagList = driver.find_elements_by_css_selector('tr > td:nth-child(1) > div > input')\n",
    "\n",
    "number = []\n",
    "for i in songTagList:\n",
    "    number.append(i. get_attribute('value'))\n",
    "\n",
    "LYRIC=[]\n",
    "\n",
    "for i in number:\n",
    "    driver.get(\"https://www.melon.com/song/detail.htm?songId=\" + i)\n",
    "    try:\n",
    "        if driver.find_element_by_class_name(\"lyric\"):\n",
    "            lyric=driver.find_element_by_class_name(\"lyric\")\n",
    "            LYRIC.append(lyric.text)\n",
    "    except:\n",
    "        LYRIC.append(\"\")\n",
    "        \n",
    "LYRIC2=[]\n",
    "for i in LYRIC:\n",
    "    LYRIC2.append(i.replace(\"\\n\",\" \"))\n",
    "    \n",
    "data['Lyric'] = LYRIC2\n",
    "\n",
    "TRO_top201_250 = data[['Title','Singer','Lyric']]\n",
    "\n",
    "driver.get(\"https://www.melon.com/genre/song_list.htm?gnrCode=GN0700&steadyYn=Y#params%5BgnrCode%5D=GN0700&params%5BdtlGnrCode%5D=GN0701&params%5BorderBy%5D=NEW&params%5BsteadyYn%5D=Y&po=pageObj&startIndex=251\")\n",
    "title=driver.find_elements_by_class_name('ellipsis.rank01')\n",
    "title2=[]\n",
    "for i in title:\n",
    "    title2.append(i.text)\n",
    "del title2[50:]\n",
    "\n",
    "singer=driver.find_elements_by_class_name('ellipsis.rank02')\n",
    "singer2=[]\n",
    "for i in singer:\n",
    "    singer2.append(i.text)\n",
    "del title2[50:]\n",
    "\n",
    "data['Title'] = title2\n",
    "data['Singer'] = singer2\n",
    "\n",
    "songTagList = driver.find_elements_by_css_selector('tr > td:nth-child(1) > div > input')\n",
    "\n",
    "number = []\n",
    "for i in songTagList:\n",
    "    number.append(i. get_attribute('value'))\n",
    "\n",
    "LYRIC=[]\n",
    "\n",
    "for i in number:\n",
    "    driver.get(\"https://www.melon.com/song/detail.htm?songId=\" + i)\n",
    "    try:\n",
    "        if driver.find_element_by_class_name(\"lyric\"):\n",
    "            lyric=driver.find_element_by_class_name(\"lyric\")\n",
    "            LYRIC.append(lyric.text)\n",
    "    except:\n",
    "        LYRIC.append(\"\")\n",
    "        \n",
    "LYRIC2=[]\n",
    "for i in LYRIC:\n",
    "    LYRIC2.append(i.replace(\"\\n\",\" \"))\n",
    "    \n",
    "data['Lyric'] = LYRIC2\n",
    "\n",
    "TRO_top251_300 = data[['Title','Singer','Lyric']]"
   ]
  },
  {
   "cell_type": "code",
   "execution_count": null,
   "metadata": {},
   "outputs": [],
   "source": [
    "TRO = pd.concat([TRO_top1_50, TRO_top51_100, TRO_top101_150, TRO_top151_200, TRO_top201_250, TRO_top251_300])\n",
    "TRO"
   ]
  },
  {
   "cell_type": "code",
   "execution_count": null,
   "metadata": {},
   "outputs": [],
   "source": [
    "TRO.to_csv(\"./data/TRO.csv\", encoding=\"utf-8\", index=False)"
   ]
  },
  {
   "cell_type": "markdown",
   "metadata": {},
   "source": [
    "## 포크/블루스"
   ]
  },
  {
   "cell_type": "code",
   "execution_count": null,
   "metadata": {},
   "outputs": [],
   "source": [
    "driver.get(\"https://www.melon.com/genre/song_list.htm?gnrCode=GN0800&steadyYn=Y\")\n",
    "\n",
    "title=driver.find_elements_by_class_name('ellipsis.rank01')\n",
    "title2=[]\n",
    "for i in title:\n",
    "    title2.append(i.text)\n",
    "del title2[50:]\n",
    "\n",
    "singer=driver.find_elements_by_class_name('ellipsis.rank02')\n",
    "singer2=[]\n",
    "for i in singer:\n",
    "    singer2.append(i.text)\n",
    "del title2[50:]\n",
    "\n",
    "data['Title'] = title2\n",
    "data['Singer'] = singer2\n",
    "\n",
    "songTagList = driver.find_elements_by_css_selector('tr > td:nth-child(1) > div > input')\n",
    "\n",
    "number = []\n",
    "for i in songTagList:\n",
    "    number.append(i. get_attribute('value'))\n",
    "\n",
    "LYRIC=[]\n",
    "\n",
    "for i in number:\n",
    "    driver.get(\"https://www.melon.com/song/detail.htm?songId=\" + i)\n",
    "    try:\n",
    "        if driver.find_element_by_class_name(\"lyric\"):\n",
    "            lyric=driver.find_element_by_class_name(\"lyric\")\n",
    "            LYRIC.append(lyric.text)\n",
    "    except:\n",
    "        LYRIC.append(\"\")\n",
    "        \n",
    "LYRIC2=[]\n",
    "for i in LYRIC:\n",
    "    LYRIC2.append(i.replace(\"\\n\",\" \"))\n",
    "    \n",
    "data['Lyric'] = LYRIC2\n",
    "\n",
    "FORK_top1_50 = data[['Title','Singer','Lyric']]\n",
    "\n",
    "driver.get(\"https://www.melon.com/genre/song_list.htm?gnrCode=GN0800&steadyYn=Y#params%5BgnrCode%5D=GN0800&params%5BdtlGnrCode%5D=&params%5BorderBy%5D=NEW&params%5BsteadyYn%5D=Y&po=pageObj&startIndex=51\")\n",
    "title=driver.find_elements_by_class_name('ellipsis.rank01')\n",
    "title2=[]\n",
    "for i in title:\n",
    "    title2.append(i.text)\n",
    "del title2[50:]\n",
    "\n",
    "singer=driver.find_elements_by_class_name('ellipsis.rank02')\n",
    "singer2=[]\n",
    "for i in singer:\n",
    "    singer2.append(i.text)\n",
    "del title2[50:]\n",
    "\n",
    "data['Title'] = title2\n",
    "data['Singer'] = singer2\n",
    "\n",
    "songTagList = driver.find_elements_by_css_selector('tr > td:nth-child(1) > div > input')\n",
    "\n",
    "number = []\n",
    "for i in songTagList:\n",
    "    number.append(i. get_attribute('value'))\n",
    "\n",
    "LYRIC=[]\n",
    "\n",
    "for i in number:\n",
    "    driver.get(\"https://www.melon.com/song/detail.htm?songId=\" + i)\n",
    "    try:\n",
    "        if driver.find_element_by_class_name(\"lyric\"):\n",
    "            lyric=driver.find_element_by_class_name(\"lyric\")\n",
    "            LYRIC.append(lyric.text)\n",
    "    except:\n",
    "        LYRIC.append(\"\")\n",
    "        \n",
    "LYRIC2=[]\n",
    "for i in LYRIC:\n",
    "    LYRIC2.append(i.replace(\"\\n\",\" \"))\n",
    "    \n",
    "data['Lyric'] = LYRIC2\n",
    "\n",
    "FORK_top51_100 = data[['Title','Singer','Lyric']]\n",
    "\n",
    "driver.get(\"https://www.melon.com/genre/song_list.htm?gnrCode=GN0800&steadyYn=Y#params%5BgnrCode%5D=GN0800&params%5BdtlGnrCode%5D=&params%5BorderBy%5D=NEW&params%5BsteadyYn%5D=Y&po=pageObj&startIndex=101\")\n",
    "title=driver.find_elements_by_class_name('ellipsis.rank01')\n",
    "title2=[]\n",
    "for i in title:\n",
    "    title2.append(i.text)\n",
    "del title2[50:]\n",
    "\n",
    "singer=driver.find_elements_by_class_name('ellipsis.rank02')\n",
    "singer2=[]\n",
    "for i in singer:\n",
    "    singer2.append(i.text)\n",
    "del title2[50:]\n",
    "\n",
    "data['Title'] = title2\n",
    "data['Singer'] = singer2\n",
    "\n",
    "songTagList = driver.find_elements_by_css_selector('tr > td:nth-child(1) > div > input')\n",
    "\n",
    "number = []\n",
    "for i in songTagList:\n",
    "    number.append(i. get_attribute('value'))\n",
    "\n",
    "LYRIC=[]\n",
    "\n",
    "for i in number:\n",
    "    driver.get(\"https://www.melon.com/song/detail.htm?songId=\" + i)\n",
    "    try:\n",
    "        if driver.find_element_by_class_name(\"lyric\"):\n",
    "            lyric=driver.find_element_by_class_name(\"lyric\")\n",
    "            LYRIC.append(lyric.text)\n",
    "    except:\n",
    "        LYRIC.append(\"\")\n",
    "        \n",
    "LYRIC2=[]\n",
    "for i in LYRIC:\n",
    "    LYRIC2.append(i.replace(\"\\n\",\" \"))\n",
    "    \n",
    "data['Lyric'] = LYRIC2\n",
    "\n",
    "FORK_top101_150 = data[['Title','Singer','Lyric']]"
   ]
  },
  {
   "cell_type": "code",
   "execution_count": null,
   "metadata": {},
   "outputs": [],
   "source": [
    "driver.get(\"https://www.melon.com/genre/song_list.htm?gnrCode=GN0800&steadyYn=Y#params%5BgnrCode%5D=GN0800&params%5BdtlGnrCode%5D=&params%5BorderBy%5D=NEW&params%5BsteadyYn%5D=Y&po=pageObj&startIndex=151\")\n",
    "\n",
    "title=driver.find_elements_by_class_name('ellipsis.rank01')\n",
    "title2=[]\n",
    "for i in title:\n",
    "    title2.append(i.text)\n",
    "del title2[50:]\n",
    "\n",
    "singer=driver.find_elements_by_class_name('ellipsis.rank02')\n",
    "singer2=[]\n",
    "for i in singer:\n",
    "    singer2.append(i.text)\n",
    "del title2[50:]\n",
    "\n",
    "data['Title'] = title2\n",
    "data['Singer'] = singer2\n",
    "\n",
    "songTagList = driver.find_elements_by_css_selector('tr > td:nth-child(1) > div > input')\n",
    "\n",
    "number = []\n",
    "for i in songTagList:\n",
    "    number.append(i. get_attribute('value'))\n",
    "\n",
    "LYRIC=[]\n",
    "\n",
    "for i in number:\n",
    "    driver.get(\"https://www.melon.com/song/detail.htm?songId=\" + i)\n",
    "    try:\n",
    "        if driver.find_element_by_class_name(\"lyric\"):\n",
    "            lyric=driver.find_element_by_class_name(\"lyric\")\n",
    "            LYRIC.append(lyric.text)\n",
    "    except:\n",
    "        LYRIC.append(\"\")\n",
    "        \n",
    "LYRIC2=[]\n",
    "for i in LYRIC:\n",
    "    LYRIC2.append(i.replace(\"\\n\",\" \"))\n",
    "    \n",
    "data['Lyric'] = LYRIC2\n",
    "\n",
    "FORK_top151_200 = data[['Title','Singer','Lyric']]\n",
    "\n",
    "driver.get(\"https://www.melon.com/genre/song_list.htm?gnrCode=GN0800&steadyYn=Y#params%5BgnrCode%5D=GN0800&params%5BdtlGnrCode%5D=&params%5BorderBy%5D=NEW&params%5BsteadyYn%5D=Y&po=pageObj&startIndex=201\")\n",
    "\n",
    "title=driver.find_elements_by_class_name('ellipsis.rank01')\n",
    "title2=[]\n",
    "for i in title:\n",
    "    title2.append(i.text)\n",
    "del title2[50:]\n",
    "\n",
    "singer=driver.find_elements_by_class_name('ellipsis.rank02')\n",
    "singer2=[]\n",
    "for i in singer:\n",
    "    singer2.append(i.text)\n",
    "del title2[50:]\n",
    "\n",
    "data['Title'] = title2\n",
    "data['Singer'] = singer2\n",
    "\n",
    "songTagList = driver.find_elements_by_css_selector('tr > td:nth-child(1) > div > input')\n",
    "\n",
    "number = []\n",
    "for i in songTagList:\n",
    "    number.append(i. get_attribute('value'))\n",
    "\n",
    "LYRIC=[]\n",
    "\n",
    "for i in number:\n",
    "    driver.get(\"https://www.melon.com/song/detail.htm?songId=\" + i)\n",
    "    try:\n",
    "        if driver.find_element_by_class_name(\"lyric\"):\n",
    "            lyric=driver.find_element_by_class_name(\"lyric\")\n",
    "            LYRIC.append(lyric.text)\n",
    "    except:\n",
    "        LYRIC.append(\"\")\n",
    "        \n",
    "LYRIC2=[]\n",
    "for i in LYRIC:\n",
    "    LYRIC2.append(i.replace(\"\\n\",\" \"))\n",
    "    \n",
    "data['Lyric'] = LYRIC2\n",
    "\n",
    "FORK_top201_250 = data[['Title','Singer','Lyric']]\n",
    "\n",
    "driver.get(\"https://www.melon.com/genre/song_list.htm?gnrCode=GN0800&steadyYn=Y#params%5BgnrCode%5D=GN0800&params%5BdtlGnrCode%5D=&params%5BorderBy%5D=NEW&params%5BsteadyYn%5D=Y&po=pageObj&startIndex=251\")\n",
    "title=driver.find_elements_by_class_name('ellipsis.rank01')\n",
    "title2=[]\n",
    "for i in title:\n",
    "    title2.append(i.text)\n",
    "del title2[50:]\n",
    "\n",
    "singer=driver.find_elements_by_class_name('ellipsis.rank02')\n",
    "singer2=[]\n",
    "for i in singer:\n",
    "    singer2.append(i.text)\n",
    "del title2[50:]\n",
    "\n",
    "data['Title'] = title2\n",
    "data['Singer'] = singer2\n",
    "\n",
    "songTagList = driver.find_elements_by_css_selector('tr > td:nth-child(1) > div > input')\n",
    "\n",
    "number = []\n",
    "for i in songTagList:\n",
    "    number.append(i. get_attribute('value'))\n",
    "\n",
    "LYRIC=[]\n",
    "\n",
    "for i in number:\n",
    "    driver.get(\"https://www.melon.com/song/detail.htm?songId=\" + i)\n",
    "    try:\n",
    "        if driver.find_element_by_class_name(\"lyric\"):\n",
    "            lyric=driver.find_element_by_class_name(\"lyric\")\n",
    "            LYRIC.append(lyric.text)\n",
    "    except:\n",
    "        LYRIC.append(\"\")\n",
    "        \n",
    "LYRIC2=[]\n",
    "for i in LYRIC:\n",
    "    LYRIC2.append(i.replace(\"\\n\",\" \"))\n",
    "    \n",
    "data['Lyric'] = LYRIC2\n",
    "\n",
    "FORK_top251_300 = data[['Title','Singer','Lyric']]"
   ]
  },
  {
   "cell_type": "code",
   "execution_count": null,
   "metadata": {},
   "outputs": [],
   "source": [
    "FORK = pd.concat([FORK_top1_50, FORK_top51_100, FORK_top101_150, FORK_top151_200, FORK_top201_250, FORK_top251_300])\n",
    "FORK"
   ]
  },
  {
   "cell_type": "code",
   "execution_count": null,
   "metadata": {},
   "outputs": [],
   "source": [
    "FORK.to_csv(\"./data/FORK.csv\", encoding=\"utf-8\", index=False)"
   ]
  }
 ],
 "metadata": {
  "kernelspec": {
   "display_name": "Python 3",
   "language": "python",
   "name": "python3"
  },
  "language_info": {
   "codemirror_mode": {
    "name": "ipython",
    "version": 3
   },
   "file_extension": ".py",
   "mimetype": "text/x-python",
   "name": "python",
   "nbconvert_exporter": "python",
   "pygments_lexer": "ipython3",
   "version": "3.8.5"
  }
 },
 "nbformat": 4,
 "nbformat_minor": 4
}
